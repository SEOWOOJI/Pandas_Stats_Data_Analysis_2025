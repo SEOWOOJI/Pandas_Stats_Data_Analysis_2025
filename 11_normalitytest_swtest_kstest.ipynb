{
  "nbformat": 4,
  "nbformat_minor": 0,
  "metadata": {
    "colab": {
      "provenance": [],
      "include_colab_link": true
    },
    "kernelspec": {
      "name": "python3",
      "display_name": "Python 3"
    },
    "language_info": {
      "name": "python"
    }
  },
  "cells": [
    {
      "cell_type": "markdown",
      "metadata": {
        "id": "view-in-github",
        "colab_type": "text"
      },
      "source": [
        "<a href=\"https://colab.research.google.com/github/SEOWOOJI/Pandas_Stats_Data_Analysis_2025/blob/main/11_normalitytest_swtest_kstest.ipynb\" target=\"_parent\"><img src=\"https://colab.research.google.com/assets/colab-badge.svg\" alt=\"Open In Colab\"/></a>"
      ]
    },
    {
      "cell_type": "code",
      "source": [
        "!pip install --upgrade nbformat nbconvert"
      ],
      "metadata": {
        "id": "7P8V4mXNa6ur",
        "outputId": "1733d8ed-be7b-4c95-e48a-8aca5ac9f863",
        "colab": {
          "base_uri": "https://localhost:8080/"
        },
        "collapsed": true
      },
      "execution_count": null,
      "outputs": [
        {
          "output_type": "stream",
          "name": "stdout",
          "text": [
            "Requirement already satisfied: nbformat in /usr/local/lib/python3.11/dist-packages (5.10.4)\n",
            "Requirement already satisfied: nbconvert in /usr/local/lib/python3.11/dist-packages (7.16.6)\n",
            "Requirement already satisfied: fastjsonschema>=2.15 in /usr/local/lib/python3.11/dist-packages (from nbformat) (2.21.1)\n",
            "Requirement already satisfied: jsonschema>=2.6 in /usr/local/lib/python3.11/dist-packages (from nbformat) (4.23.0)\n",
            "Requirement already satisfied: jupyter-core!=5.0.*,>=4.12 in /usr/local/lib/python3.11/dist-packages (from nbformat) (5.7.2)\n",
            "Requirement already satisfied: traitlets>=5.1 in /usr/local/lib/python3.11/dist-packages (from nbformat) (5.7.1)\n",
            "Requirement already satisfied: beautifulsoup4 in /usr/local/lib/python3.11/dist-packages (from nbconvert) (4.13.4)\n",
            "Requirement already satisfied: bleach!=5.0.0 in /usr/local/lib/python3.11/dist-packages (from bleach[css]!=5.0.0->nbconvert) (6.2.0)\n",
            "Requirement already satisfied: defusedxml in /usr/local/lib/python3.11/dist-packages (from nbconvert) (0.7.1)\n",
            "Requirement already satisfied: jinja2>=3.0 in /usr/local/lib/python3.11/dist-packages (from nbconvert) (3.1.6)\n",
            "Requirement already satisfied: jupyterlab-pygments in /usr/local/lib/python3.11/dist-packages (from nbconvert) (0.3.0)\n",
            "Requirement already satisfied: markupsafe>=2.0 in /usr/local/lib/python3.11/dist-packages (from nbconvert) (3.0.2)\n",
            "Requirement already satisfied: mistune<4,>=2.0.3 in /usr/local/lib/python3.11/dist-packages (from nbconvert) (3.1.3)\n",
            "Requirement already satisfied: nbclient>=0.5.0 in /usr/local/lib/python3.11/dist-packages (from nbconvert) (0.10.2)\n",
            "Requirement already satisfied: packaging in /usr/local/lib/python3.11/dist-packages (from nbconvert) (24.2)\n",
            "Requirement already satisfied: pandocfilters>=1.4.1 in /usr/local/lib/python3.11/dist-packages (from nbconvert) (1.5.1)\n",
            "Requirement already satisfied: pygments>=2.4.1 in /usr/local/lib/python3.11/dist-packages (from nbconvert) (2.19.1)\n",
            "Requirement already satisfied: webencodings in /usr/local/lib/python3.11/dist-packages (from bleach!=5.0.0->bleach[css]!=5.0.0->nbconvert) (0.5.1)\n",
            "Requirement already satisfied: tinycss2<1.5,>=1.1.0 in /usr/local/lib/python3.11/dist-packages (from bleach[css]!=5.0.0->nbconvert) (1.4.0)\n",
            "Requirement already satisfied: attrs>=22.2.0 in /usr/local/lib/python3.11/dist-packages (from jsonschema>=2.6->nbformat) (25.3.0)\n",
            "Requirement already satisfied: jsonschema-specifications>=2023.03.6 in /usr/local/lib/python3.11/dist-packages (from jsonschema>=2.6->nbformat) (2025.4.1)\n",
            "Requirement already satisfied: referencing>=0.28.4 in /usr/local/lib/python3.11/dist-packages (from jsonschema>=2.6->nbformat) (0.36.2)\n",
            "Requirement already satisfied: rpds-py>=0.7.1 in /usr/local/lib/python3.11/dist-packages (from jsonschema>=2.6->nbformat) (0.25.1)\n",
            "Requirement already satisfied: platformdirs>=2.5 in /usr/local/lib/python3.11/dist-packages (from jupyter-core!=5.0.*,>=4.12->nbformat) (4.3.8)\n",
            "Requirement already satisfied: jupyter-client>=6.1.12 in /usr/local/lib/python3.11/dist-packages (from nbclient>=0.5.0->nbconvert) (6.1.12)\n",
            "Requirement already satisfied: soupsieve>1.2 in /usr/local/lib/python3.11/dist-packages (from beautifulsoup4->nbconvert) (2.7)\n",
            "Requirement already satisfied: typing-extensions>=4.0.0 in /usr/local/lib/python3.11/dist-packages (from beautifulsoup4->nbconvert) (4.13.2)\n",
            "Requirement already satisfied: pyzmq>=13 in /usr/local/lib/python3.11/dist-packages (from jupyter-client>=6.1.12->nbclient>=0.5.0->nbconvert) (24.0.1)\n",
            "Requirement already satisfied: python-dateutil>=2.1 in /usr/local/lib/python3.11/dist-packages (from jupyter-client>=6.1.12->nbclient>=0.5.0->nbconvert) (2.9.0.post0)\n",
            "Requirement already satisfied: tornado>=4.1 in /usr/local/lib/python3.11/dist-packages (from jupyter-client>=6.1.12->nbclient>=0.5.0->nbconvert) (6.4.2)\n",
            "Requirement already satisfied: six>=1.5 in /usr/local/lib/python3.11/dist-packages (from python-dateutil>=2.1->jupyter-client>=6.1.12->nbclient>=0.5.0->nbconvert) (1.17.0)\n"
          ]
        }
      ]
    },
    {
      "cell_type": "markdown",
      "source": [
        "## 💦🔥 **Normality test**\n",
        "\n",
        "1. **Small sample size (N<50)**, which is comparable to **Shapiro-Wilk** test on SPSS\n",
        "\n",
        "2. **Big sample size (N>50)**, which is comparable to **Kolmogorov-Smirnov** test on SPSS\n",
        "\n"
      ],
      "metadata": {
        "id": "NJ08d_uKSFuM"
      }
    },
    {
      "cell_type": "markdown",
      "source": [
        "# <font color = 'green'> **1️⃣  Small Sample Size (N < 50)**\n",
        "    - Warning : Be aware that the following script generates different results for everyone running it!"
      ],
      "metadata": {
        "id": "ORCNnHH_10vs"
      }
    },
    {
      "cell_type": "markdown",
      "source": [
        "## CTT (Critical Test Threshold)\n",
        "\n",
        "- The p-value represents the probability of observing the test statistic under the assumption that the null hypothesis is true. However, it doesn't provide information about the size of the effect or the practical significance of the result.\n",
        "\n",
        "- On the other hand, the critical test threshold (CTT) is the predetermined significance level (often denoted as alpha) at which you're willing to reject the null hypothesis. It is typically set to 0.05."
      ],
      "metadata": {
        "id": "NBV0cLff730W"
      }
    },
    {
      "cell_type": "markdown",
      "source": [
        "# <font color = 'green'> **1️⃣-1️⃣  Small Sample Size with Gaussian distribution (N < 50)**"
      ],
      "metadata": {
        "id": "l3WhCZYfbx8E"
      }
    },
    {
      "cell_type": "code",
      "source": [
        "import pandas as pd\n",
        "import numpy as np\n",
        "import seaborn as sns\n",
        "from scipy.stats import shapiro"
      ],
      "metadata": {
        "id": "CCPgKQnxZtCe"
      },
      "execution_count": null,
      "outputs": []
    },
    {
      "cell_type": "code",
      "source": [
        "data_gaussian = np.random.normal(loc = 3, scale = 1, size = 30)\n",
        "print(data_gaussian)"
      ],
      "metadata": {
        "colab": {
          "base_uri": "https://localhost:8080/"
        },
        "id": "gRUC-p1N6QC5",
        "outputId": "21229d5a-058f-4e18-b5e8-ba10d494aee8"
      },
      "execution_count": null,
      "outputs": [
        {
          "output_type": "stream",
          "name": "stdout",
          "text": [
            "[3.26510888 3.02531713 0.91153603 1.49664303 1.45901765 2.75026835\n",
            " 2.7092242  3.29470659 3.97778834 2.69759722 3.56117669 3.22432243\n",
            " 2.9653039  3.67065556 3.55140304 4.35153518 3.3737535  2.19719208\n",
            " 2.90305915 3.94688192 2.33355372 0.61650502 0.66622815 3.69428845\n",
            " 4.77172878 3.83164188 2.18620038 4.94155917 2.94832026 3.49339606]\n"
          ]
        }
      ]
    },
    {
      "cell_type": "code",
      "source": [
        "df1 = pd.DataFrame(data_gaussian, columns = ['Values'])\n",
        "print('Full set of data points for Gaussian data :')\n",
        "print(df1)"
      ],
      "metadata": {
        "colab": {
          "base_uri": "https://localhost:8080/"
        },
        "id": "WtXkp2ifageV",
        "outputId": "1a36390d-6a0b-4330-b8a0-b778a3a228f5"
      },
      "execution_count": null,
      "outputs": [
        {
          "output_type": "stream",
          "name": "stdout",
          "text": [
            "Full set of data points for Gaussian data :\n",
            "      Values\n",
            "0   3.265109\n",
            "1   3.025317\n",
            "2   0.911536\n",
            "3   1.496643\n",
            "4   1.459018\n",
            "5   2.750268\n",
            "6   2.709224\n",
            "7   3.294707\n",
            "8   3.977788\n",
            "9   2.697597\n",
            "10  3.561177\n",
            "11  3.224322\n",
            "12  2.965304\n",
            "13  3.670656\n",
            "14  3.551403\n",
            "15  4.351535\n",
            "16  3.373753\n",
            "17  2.197192\n",
            "18  2.903059\n",
            "19  3.946882\n",
            "20  2.333554\n",
            "21  0.616505\n",
            "22  0.666228\n",
            "23  3.694288\n",
            "24  4.771729\n",
            "25  3.831642\n",
            "26  2.186200\n",
            "27  4.941559\n",
            "28  2.948320\n",
            "29  3.493396\n"
          ]
        }
      ]
    },
    {
      "cell_type": "code",
      "source": [
        "df1.to_csv('generated_data1.csv', index = True)"
      ],
      "metadata": {
        "id": "wjQfgmY6bFhD"
      },
      "execution_count": null,
      "outputs": []
    },
    {
      "cell_type": "code",
      "source": [
        "statistic, p_value = shapiro(data_gaussian)\n",
        "statistic = round(statistic, 3)\n",
        "\n",
        "print(\"Shapiro-Wilk Test Statistic:\", statistic)\n",
        "print(\"p-value:\", p_value)"
      ],
      "metadata": {
        "colab": {
          "base_uri": "https://localhost:8080/"
        },
        "id": "3tQC6HwFbnhl",
        "outputId": "dc952358-b19a-492d-9d84-c42167336a49"
      },
      "execution_count": null,
      "outputs": [
        {
          "output_type": "stream",
          "name": "stdout",
          "text": [
            "Shapiro-Wilk Test Statistic: 0.953\n",
            "p-value: 0.20117322118492065\n"
          ]
        }
      ]
    },
    {
      "cell_type": "code",
      "source": [
        "alpha = 0.05\n",
        "\n",
        "if p_value > alpha:\n",
        "  print('샘플 데이터는 정규분포를 따름(영가설 채택)')\n",
        "else:\n",
        "  print('샘플 데이터는 정규분포를 따르지 않음(영가설 기각)')"
      ],
      "metadata": {
        "colab": {
          "base_uri": "https://localhost:8080/"
        },
        "id": "H6wkWIhucJi_",
        "outputId": "f8c30f86-b72c-4e46-e927-cd8283c06c3f"
      },
      "execution_count": null,
      "outputs": [
        {
          "output_type": "stream",
          "name": "stdout",
          "text": [
            "샘플 데이터는 정규분포를 따름(영가설 채택)\n"
          ]
        }
      ]
    },
    {
      "cell_type": "code",
      "execution_count": null,
      "metadata": {
        "id": "3454tysCMAaw",
        "colab": {
          "base_uri": "https://localhost:8080/"
        },
        "outputId": "0e490abb-90c1-4b25-c05b-7832fe8d4110"
      },
      "outputs": [
        {
          "output_type": "stream",
          "name": "stdout",
          "text": [
            "[2.63065052 3.7711777  1.44449241 3.06847158 1.84156617 2.73986129\n",
            " 2.4770356  2.47417021 2.62216875 1.17351781 3.2069952  2.72747803\n",
            " 2.3641965  4.23623934 2.95445539 2.34000023 3.36322496 3.55094858\n",
            " 1.20504877 2.52331669 3.59431587 4.08159126 4.33116537 4.54221542\n",
            " 2.91560503 2.83901496 3.01820407 2.47075788 2.01203994 1.71066726\n",
            " 4.5801961  2.19079438 3.37890949 2.75347558 3.12922985 3.00653538\n",
            " 1.00898776 3.07010349 3.66574085 3.86796534]\n",
            "\n",
            "\n",
            "Full set of data points for Gaussian data:\n",
            "      Values\n",
            "0   2.630651\n",
            "1   3.771178\n",
            "2   1.444492\n",
            "3   3.068472\n",
            "4   1.841566\n",
            "5   2.739861\n",
            "6   2.477036\n",
            "7   2.474170\n",
            "8   2.622169\n",
            "9   1.173518\n",
            "10  3.206995\n",
            "11  2.727478\n",
            "12  2.364196\n",
            "13  4.236239\n",
            "14  2.954455\n",
            "15  2.340000\n",
            "16  3.363225\n",
            "17  3.550949\n",
            "18  1.205049\n",
            "19  2.523317\n",
            "20  3.594316\n",
            "21  4.081591\n",
            "22  4.331165\n",
            "23  4.542215\n",
            "24  2.915605\n",
            "25  2.839015\n",
            "26  3.018204\n",
            "27  2.470758\n",
            "28  2.012040\n",
            "29  1.710667\n",
            "30  4.580196\n",
            "31  2.190794\n",
            "32  3.378909\n",
            "33  2.753476\n",
            "34  3.129230\n",
            "35  3.006535\n",
            "36  1.008988\n",
            "37  3.070103\n",
            "38  3.665741\n",
            "39  3.867965\n",
            "\n",
            "\n",
            "Shapiro-Wilk Test Statistic: 0.98\n",
            "p-value: 0.6799492304313203\n",
            "Sample looks Gaussian (fail to reject H0)\n"
          ]
        }
      ],
      "source": [
        "import numpy as np # numeric calculation\n",
        "import pandas as pd # data analysis\n",
        "import seaborn as sns\n",
        "from scipy.stats import shapiro # stats\n",
        "\n",
        "# Generate a random dataset (replace this with your own data)\n",
        "# 🔔 The following code line generates random numbers from a normal (Gaussian) distribution using NumPy's random.normal function.\n",
        "# 🔔 loc=3, scale=1, size=50 (creating an array of 50 numbers drawn from a normal distribution with a mean (loc) of 3 and a standard deviation (scale) of 1.\n",
        "data_gaussian = np.random.normal(loc=3, scale=1, size=40)\n",
        "print(data_gaussian)\n",
        "print('\\n')\n",
        "\n",
        "# Convert the data to a pandas DataFrame\n",
        "df1 = pd.DataFrame(data_gaussian, columns=['Values'])\n",
        "print('Full set of data points for Gaussian data:')\n",
        "print(df1)\n",
        "print('\\n')\n",
        "\n",
        "# Save the DataFrame to a CSV file\n",
        "df1.to_csv('generated_data1.csv', index=True) # index=True for inncluding index\n",
        "\n",
        "# Perform Shapiro-Wilk test for normality\n",
        "# 🔔 Tuple unpacking: shapiro() function returns a tuple containing two values: the test statistic and the p-value.\n",
        "# By separating statistic and p_value with a comma, Python interprets the returned tuple and assigns each value to its corresponding variable.\n",
        "statistic, p_value = shapiro(data_gaussian)\n",
        "\n",
        "#Apply the round function for the test statistic (Optional)\n",
        "statistic = round(statistic, 3)\n",
        "\n",
        "# Print the test statistic and p-value\n",
        "print(\"Shapiro-Wilk Test Statistic:\", statistic)\n",
        "print(\"p-value:\", p_value)\n",
        "\n",
        "# Define the CTT (critical test threshold, aka., alpha)\n",
        "alpha = 0.05\n",
        "\n",
        "# Interpret the result\n",
        "if p_value > alpha:\n",
        "    print(\"Sample looks Gaussian (fail to reject H0)\")\n",
        "else:\n",
        "    print(\"Sample does not look Gaussian (reject H0)\")\n",
        "\n"
      ]
    },
    {
      "cell_type": "markdown",
      "source": [
        "# <font color = 'green'> **1️⃣-2️⃣  Small Sample Size with non-Gaussian distribution (N < 50)**"
      ],
      "metadata": {
        "id": "UkFMUyaacPeM"
      }
    },
    {
      "cell_type": "code",
      "source": [
        "import numpy as np\n",
        "import pandas as pd\n",
        "from scipy.stats import shapiro"
      ],
      "metadata": {
        "id": "QQvIl4aTc1G1"
      },
      "execution_count": null,
      "outputs": []
    },
    {
      "cell_type": "code",
      "source": [
        "data_non_gaussian = np.random.exponential(scale = 1, size = 40)\n",
        "print(data_non_gaussian)"
      ],
      "metadata": {
        "colab": {
          "base_uri": "https://localhost:8080/"
        },
        "id": "grCuddGSc-Xi",
        "outputId": "fef93bca-fadd-4358-cbde-7eb8fd020db0"
      },
      "execution_count": null,
      "outputs": [
        {
          "output_type": "stream",
          "name": "stdout",
          "text": [
            "[0.27794673 1.01148192 0.30430638 1.13264943 3.01576569 1.06442556\n",
            " 0.05087633 2.07063674 0.70547631 0.91696974 1.28878686 0.21423574\n",
            " 3.76653499 3.18314248 1.15345512 1.03857188 0.97182649 1.15205021\n",
            " 0.17548659 0.64138004 0.17749865 1.04975027 0.74638105 2.44726573\n",
            " 0.29644052 0.03583966 2.04209063 0.92551149 2.70550633 0.3182039\n",
            " 0.08615224 0.88196565 2.46375888 0.17453588 0.11143053 1.33069005\n",
            " 0.79634407 1.42715189 0.06340029 0.2104194 ]\n"
          ]
        }
      ]
    },
    {
      "cell_type": "code",
      "source": [
        "df2 = pd.DataFrame(data_non_gaussian, columns = ['Values'])\n",
        "df2.to_csv('non_gaussian_data.csv', index = True)\n",
        "print('Full set of data points for Non-Gaussian data:')\n",
        "print(df2)"
      ],
      "metadata": {
        "colab": {
          "base_uri": "https://localhost:8080/"
        },
        "id": "TyzVMZGydgdq",
        "outputId": "dcec349d-0ed8-4c0c-f4d3-66ed9ec00238"
      },
      "execution_count": null,
      "outputs": [
        {
          "output_type": "stream",
          "name": "stdout",
          "text": [
            "Full set of data points for Non-Gaussian data:\n",
            "      Values\n",
            "0   0.277947\n",
            "1   1.011482\n",
            "2   0.304306\n",
            "3   1.132649\n",
            "4   3.015766\n",
            "5   1.064426\n",
            "6   0.050876\n",
            "7   2.070637\n",
            "8   0.705476\n",
            "9   0.916970\n",
            "10  1.288787\n",
            "11  0.214236\n",
            "12  3.766535\n",
            "13  3.183142\n",
            "14  1.153455\n",
            "15  1.038572\n",
            "16  0.971826\n",
            "17  1.152050\n",
            "18  0.175487\n",
            "19  0.641380\n",
            "20  0.177499\n",
            "21  1.049750\n",
            "22  0.746381\n",
            "23  2.447266\n",
            "24  0.296441\n",
            "25  0.035840\n",
            "26  2.042091\n",
            "27  0.925511\n",
            "28  2.705506\n",
            "29  0.318204\n",
            "30  0.086152\n",
            "31  0.881966\n",
            "32  2.463759\n",
            "33  0.174536\n",
            "34  0.111431\n",
            "35  1.330690\n",
            "36  0.796344\n",
            "37  1.427152\n",
            "38  0.063400\n",
            "39  0.210419\n"
          ]
        }
      ]
    },
    {
      "cell_type": "code",
      "source": [
        "statistic, p_value = shapiro(data_non_gaussian)\n",
        "statistic = round(statistic, 3)\n",
        "\n",
        "print(\"Shapiro-Wilk Test Statistic:\", statistic)\n",
        "print(\"p-value:\", round(p_value, 5))"
      ],
      "metadata": {
        "colab": {
          "base_uri": "https://localhost:8080/"
        },
        "id": "jfdJDLSidXkU",
        "outputId": "0d29a7f4-e993-4d19-c21e-47c68a9e4458"
      },
      "execution_count": null,
      "outputs": [
        {
          "output_type": "stream",
          "name": "stdout",
          "text": [
            "Shapiro-Wilk Test Statistic: 0.866\n",
            "p-value: 0.00023\n"
          ]
        }
      ]
    },
    {
      "cell_type": "code",
      "source": [
        "alpha = 0.05\n",
        "\n",
        "if p_value > alpha:\n",
        "    print(\"Sample looks Gaussian (fail to reject H0)\")\n",
        "else:\n",
        "    print(\"Sample does not look Gaussian (reject H0)\")"
      ],
      "metadata": {
        "colab": {
          "base_uri": "https://localhost:8080/"
        },
        "id": "QmvDw0aIeYFJ",
        "outputId": "e60953a3-ea6a-4d5f-cb8e-7d917c923ca2"
      },
      "execution_count": null,
      "outputs": [
        {
          "output_type": "stream",
          "name": "stdout",
          "text": [
            "Sample does not look Gaussian (reject H0)\n"
          ]
        }
      ]
    },
    {
      "cell_type": "code",
      "source": [
        "import numpy as np\n",
        "import pandas as pd\n",
        "from scipy.stats import shapiro\n",
        "\n",
        "\n",
        "# Generate data from an exponential distribution\n",
        "data_non_gaussian = np.random.exponential(scale=1, size=40) #generates 50 data points from an exponential distribution with a mean of 3.\n",
        "\n",
        "\n",
        "# Perform Shapiro-Wilk test for normality\n",
        "statistic, p_value = shapiro(data_non_gaussian)\n",
        "print(data_non_gaussian)\n",
        "print('\\n')\n",
        "\n",
        "\n",
        "# Convert the data to a pandas DataFrame\n",
        "df2 = pd.DataFrame(data_non_gaussian, columns=['Values'])\n",
        "# Display the full set of data points\n",
        "print(\"Full set of data points for Non-Gaussian data:\")\n",
        "print(df2)\n",
        "print('\\n')\n",
        "\n",
        "# Save the DataFrame to a CSV file\n",
        "df2.to_csv('non_gaussian_data.csv', index=True)\n",
        "\n",
        "# Perform Shapiro-Wilk test for normality\n",
        "statistic, p_value = shapiro(data_non_gaussian)\n",
        "\n",
        "# Print the test statistic and p-value\n",
        "print(\"Shapiro-Wilk Test Statistic:\", statistic)\n",
        "print(\"p-value:\", p_value)\n",
        "\n",
        "# Define the CTT (critical test threshold, aka., alpha)\n",
        "alpha = 0.05\n",
        "\n",
        "# Interpret the result\n",
        "if p_value > alpha:\n",
        "    print(\"Sample looks Gaussian (fail to reject H0)\")\n",
        "else:\n",
        "    print(\"Sample does not look Gaussian (reject H0)\")"
      ],
      "metadata": {
        "id": "z512G3m37zmx",
        "outputId": "5bc4d1cb-8d07-473e-b430-0b0df6337d21",
        "colab": {
          "base_uri": "https://localhost:8080/"
        }
      },
      "execution_count": null,
      "outputs": [
        {
          "output_type": "stream",
          "name": "stdout",
          "text": [
            "[0.78889783 0.48041265 0.93852841 0.18717075 0.51870797 0.61675026\n",
            " 0.24010221 0.46961202 1.41834863 5.0049957  1.32351397 3.50361517\n",
            " 0.42791337 0.65501639 0.4959751  0.66233936 2.64986784 0.14320024\n",
            " 0.35611818 0.79036769 0.83368763 1.02157283 0.22609363 1.97265874\n",
            " 0.35473264 2.53622118 0.17432605 2.4054036  0.6226692  0.34272911\n",
            " 0.19894148 0.7976676  1.18749721 1.60620207 1.331624   0.20865642\n",
            " 0.12338282 0.37124236 0.27842865 0.8431899 ]\n",
            "\n",
            "\n",
            "Full set of data points for Non-Gaussian data:\n",
            "      Values\n",
            "0   0.788898\n",
            "1   0.480413\n",
            "2   0.938528\n",
            "3   0.187171\n",
            "4   0.518708\n",
            "5   0.616750\n",
            "6   0.240102\n",
            "7   0.469612\n",
            "8   1.418349\n",
            "9   5.004996\n",
            "10  1.323514\n",
            "11  3.503615\n",
            "12  0.427913\n",
            "13  0.655016\n",
            "14  0.495975\n",
            "15  0.662339\n",
            "16  2.649868\n",
            "17  0.143200\n",
            "18  0.356118\n",
            "19  0.790368\n",
            "20  0.833688\n",
            "21  1.021573\n",
            "22  0.226094\n",
            "23  1.972659\n",
            "24  0.354733\n",
            "25  2.536221\n",
            "26  0.174326\n",
            "27  2.405404\n",
            "28  0.622669\n",
            "29  0.342729\n",
            "30  0.198941\n",
            "31  0.797668\n",
            "32  1.187497\n",
            "33  1.606202\n",
            "34  1.331624\n",
            "35  0.208656\n",
            "36  0.123383\n",
            "37  0.371242\n",
            "38  0.278429\n",
            "39  0.843190\n",
            "\n",
            "\n",
            "Shapiro-Wilk Test Statistic: 0.7460987596423221\n",
            "p-value: 6.073188496432438e-07\n",
            "Sample does not look Gaussian (reject H0)\n"
          ]
        }
      ]
    },
    {
      "cell_type": "markdown",
      "source": [
        "**e-0X in standard decimal notation is to move the decimal point X places to the left:**\n",
        "\n",
        "- **e.g., 6.4949947851358e-06 ➡️ 0.00000649**"
      ],
      "metadata": {
        "id": "sQ4W24gidVTZ"
      }
    },
    {
      "cell_type": "markdown",
      "source": [
        "# <font color = 'green'> **2️⃣ Big Sample Size (N > 50)**\n",
        "    Be aware that the following script generates different results for everyone running it!"
      ],
      "metadata": {
        "id": "K3wroDBt2Bhz"
      }
    },
    {
      "cell_type": "markdown",
      "source": [
        "# <font color = 'orange'> **2️⃣-1️⃣  Big Sample Size with Gaussian distribution (N > 50)**"
      ],
      "metadata": {
        "id": "vh2b-3sd0er1"
      }
    },
    {
      "cell_type": "code",
      "source": [
        "import pandas as pd\n",
        "import numpy as np\n",
        "from scipy.stats import kstest, norm"
      ],
      "metadata": {
        "id": "rRCxSiW28S2J"
      },
      "execution_count": null,
      "outputs": []
    },
    {
      "cell_type": "code",
      "source": [
        "data_big_gaussian = np.random.normal(1, 1, 100)\n",
        "print(data_big_gaussian)"
      ],
      "metadata": {
        "colab": {
          "base_uri": "https://localhost:8080/"
        },
        "id": "JxUJmFhr8gcq",
        "outputId": "6e331fcb-dc4d-478e-affd-f7e71d92d066"
      },
      "execution_count": null,
      "outputs": [
        {
          "output_type": "stream",
          "name": "stdout",
          "text": [
            "[ 0.15033619  1.5537272  -0.75472169  1.77453955  2.18040028 -0.59505877\n",
            "  0.09078599  0.34468575  4.42022194  0.18176954  0.48224573  1.25060441\n",
            "  0.0649355   0.61378995  1.98612447 -0.19674024  1.94701875  0.69477018\n",
            " -0.4370607  -0.11766442 -0.77735914  0.25981059  0.83649864  2.00244788\n",
            "  1.30502426  1.90946971  0.51400957  1.69071193  2.19357336  1.28977729\n",
            "  2.61626384  1.88907295  0.51107039  1.3263742  -0.10780746  0.45667795\n",
            "  0.56485684  0.20241856 -0.27252067  0.37393793  1.90579308  0.85200987\n",
            "  3.01368206  2.03429177  1.37434562  0.24969768 -0.75205882  0.96101077\n",
            "  1.18799693  1.8517409   2.29907546  0.79756278 -0.30776555  0.98118031\n",
            "  1.50552035  2.29368496  0.69247352  0.24196601  2.561044    1.03368964\n",
            "  0.20545297  1.47693398  0.82119809  2.08045435  1.01672165  0.9410172\n",
            "  0.30064282  1.26521403  1.28886085  2.12351796  0.1334152   0.62473071\n",
            " -0.28644194 -2.21008111  0.78266495  0.17607332  1.04903941  1.21262121\n",
            "  1.42303272  2.51027518  0.70935124  0.61438798  1.03762333  2.16659882\n",
            " -0.65243582  0.98429676  0.62318313  0.67359378  1.29107561  0.83998974\n",
            "  1.06585169  2.66020911  2.65839664  2.25910901  2.62168932  2.36908017\n",
            " -1.99259633  2.0505879   1.51529712  2.71517206]\n"
          ]
        }
      ]
    },
    {
      "cell_type": "code",
      "source": [
        "df3 = pd.DataFrame(data_big_gaussian, columns = ['Values'])\n",
        "df3.to_csv('GeneratedGaussianBigSampleData.csv', index = True)\n",
        "print(df3)"
      ],
      "metadata": {
        "colab": {
          "base_uri": "https://localhost:8080/"
        },
        "id": "XLqjwWLe8sFr",
        "outputId": "7245adab-91d0-45de-fa9c-d4517aaaef6d"
      },
      "execution_count": null,
      "outputs": [
        {
          "output_type": "stream",
          "name": "stdout",
          "text": [
            "      Values\n",
            "0   0.150336\n",
            "1   1.553727\n",
            "2  -0.754722\n",
            "3   1.774540\n",
            "4   2.180400\n",
            "..       ...\n",
            "95  2.369080\n",
            "96 -1.992596\n",
            "97  2.050588\n",
            "98  1.515297\n",
            "99  2.715172\n",
            "\n",
            "[100 rows x 1 columns]\n"
          ]
        }
      ]
    },
    {
      "cell_type": "code",
      "source": [
        "# args=() 인수로 모평균과 모표준편차를 직접 입력하지 않으면 표준정규분포와 비교하게 된다.\n",
        "statistic, p_value = kstest(df3['Values'], 'norm', args = (df3['Values'].mean(), df3['Values'].std()))\n",
        "\n",
        "print(\"Kolmogorov-Smirnov Test Statistic:\", statistic)\n",
        "print(\"p-value:\", p_value)"
      ],
      "metadata": {
        "colab": {
          "base_uri": "https://localhost:8080/"
        },
        "id": "xJPjcJgbfSlE",
        "outputId": "d0baddb5-8861-4874-8f6e-bff30c48df12"
      },
      "execution_count": null,
      "outputs": [
        {
          "output_type": "stream",
          "name": "stdout",
          "text": [
            "Kolmogorov-Smirnov Test Statistic: 0.04921930373638428\n",
            "p-value: 0.9588800056542025\n"
          ]
        }
      ]
    },
    {
      "cell_type": "code",
      "source": [
        "alpha = 0.05\n",
        "\n",
        "if p_value > alpha:\n",
        "  print('정규분포를 따름(영가설 기각 X)')\n",
        "else:\n",
        "  print('정규분포를 따르지 않음(영가설 기각)')"
      ],
      "metadata": {
        "colab": {
          "base_uri": "https://localhost:8080/"
        },
        "id": "ITkjf5sYip-_",
        "outputId": "2d621907-1ade-46d0-87f3-11a4f3da5405"
      },
      "execution_count": null,
      "outputs": [
        {
          "output_type": "stream",
          "name": "stdout",
          "text": [
            "정규분포를 따름(영가설 기각 X)\n"
          ]
        }
      ]
    },
    {
      "cell_type": "code",
      "source": [
        "import numpy as np # numeric calculation\n",
        "import pandas as pd # data analysis\n",
        "import seaborn as sns\n",
        "from scipy.stats import kstest, norm # stats\n",
        "\n",
        "\n",
        "# Generate a random dataset (replace this with your own data)\n",
        "# loc=1, scale=0.5, size=100 (creating an array of 100 numbers drawn from a normal distribution with a mean (loc) of 1 and a standard deviation (scale) of 1.\n",
        "data_big_gaussian = np.random.normal(loc=1, scale=1, size=100)\n",
        "print(data_big_gaussian)\n",
        "print('\\n')\n",
        "\n",
        "# Convert the data to a pandas DataFrame\n",
        "df3 = pd.DataFrame(data_big_gaussian, columns=['Values'])\n",
        "print(df3)\n",
        "print('\\n')\n",
        "\n",
        "# Save the DataFrame to a CSV file\n",
        "df3.to_csv('GeneratedGaussianBigSampleData.csv', index=True)\n",
        "\n",
        "# 💊 Perform Kolmogorov-Smirnov test for normality ⤵️\n",
        "statistic, p_value = kstest(df3['Values'], 'norm', args=(df3['Values'].mean(), df3['Values'].std()))\n",
        "\n",
        "# Print the test statistic and p-value\n",
        "print(\"Kolmogorov-Smirnov Test Statistic:\", statistic)\n",
        "print(\"p-value:\", p_value)\n",
        "\n",
        "# Define the CTT (critical test threshold, aka., alpha)\n",
        "alpha = 0.05\n",
        "\n",
        "# Interpret the result\n",
        "if p_value > alpha:\n",
        "    print(\"Sample looks Gaussian (fail to reject H0)\")\n",
        "else:\n",
        "    print(\"Sample does not look Gaussian (reject H0)\")"
      ],
      "metadata": {
        "colab": {
          "base_uri": "https://localhost:8080/"
        },
        "id": "kB6j1egtTRx0",
        "outputId": "0decb2a5-5b90-414c-aad8-af78d7f1b507"
      },
      "execution_count": null,
      "outputs": [
        {
          "output_type": "stream",
          "name": "stdout",
          "text": [
            "[ 0.62060113 -0.16899785  0.60915606  0.62549302  1.06981911  1.80787511\n",
            "  0.47156662  2.78606705  0.70150665  0.19194772  0.90656677  2.30316099\n",
            "  0.47346225  1.50055081 -0.49610864  1.50640445  2.63900842 -0.52168881\n",
            "  1.97377913  0.70491811  1.48033678 -1.05512292 -0.07017704 -0.23876893\n",
            " -0.19373504  1.13917534  1.013772    3.95680266  1.16981921 -1.02568029\n",
            "  0.87852268  0.56651883  1.38750989  1.401217    0.5158844   0.30195761\n",
            "  0.27114167  2.66738744  2.25715619 -0.48525575 -0.41094389  1.38566642\n",
            "  1.33266358  2.28094316  0.55509414  2.02296076  0.01015504  2.08245625\n",
            "  0.37572821  0.15793684 -0.12676633  1.23461383  2.11843113  1.92034921\n",
            "  2.62030398  0.48933168  2.46042421  0.77211538 -0.72560754  0.26415455\n",
            "  1.66000968  1.42858261  0.2923106  -1.02212684  0.46303092  0.76568628\n",
            "  0.23128883  1.15985237  1.50172857  0.29238767  1.33947105 -0.0857807\n",
            "  1.58165548 -0.03034088  0.74598668  2.13218432  1.96521214  0.07446809\n",
            " -0.1356182   1.72188122  1.85216088 -0.08235118  0.91007671  2.45764404\n",
            "  1.03603221  1.43500634 -0.01464606  0.05574391  1.53105442  1.28294481\n",
            "  1.89317087  2.51282044  0.62991377  0.80992682  1.67340246  0.30669292\n",
            "  1.35618461  1.3188664   1.2001377   2.62027116]\n",
            "\n",
            "\n",
            "      Values\n",
            "0   0.620601\n",
            "1  -0.168998\n",
            "2   0.609156\n",
            "3   0.625493\n",
            "4   1.069819\n",
            "..       ...\n",
            "95  0.306693\n",
            "96  1.356185\n",
            "97  1.318866\n",
            "98  1.200138\n",
            "99  2.620271\n",
            "\n",
            "[100 rows x 1 columns]\n",
            "\n",
            "\n",
            "Kolmogorov-Smirnov Test Statistic: 0.056549740195022735\n",
            "p-value: 0.8882943481310215\n",
            "Sample looks Gaussian (fail to reject H0)\n"
          ]
        }
      ]
    },
    {
      "cell_type": "markdown",
      "source": [
        "💊 **statistic, p_value = kstest(df3['Values'], 'norm', args=(df3['Values'].mean(), df3['Values'].std()))**\n",
        "\n",
        "<font color = 'red'> **Arguments:**\n",
        "\n",
        "- <font color = 'red'> **df3['Values']**</font>: This is the data we want to test for normality. It is passed as the first argument to kstest().\n",
        "- <font color = 'red'> **'norm'**</font>: This specifies that we want to test the data against a normal distribution.\n",
        "- <font color = 'red'> **args=(df3['Values'].mean(), df3['Values'].std())**</font>: This argument allows us to pass additional parameters to the distribution function being tested against.\n",
        "    - Here, we're passing the mean (df3['Values'].mean()) and standard deviation (df3['Values'].std()) of the data as parameters to the normal distribution. This ensures that the K-S test is performed with the mean and standard deviation of our data as parameters for the normal distribution.\n",
        "\n",
        "**Output:**\n",
        "\n",
        "<font color = 'green'> The **kstest()** function returns two values: the _K-S test statistic (statistic)_ and the _p-value (p_value)_. These values are assigned to the variables statistic and p_value, respectively."
      ],
      "metadata": {
        "id": "iCZ-VFcBwkPR"
      }
    },
    {
      "cell_type": "markdown",
      "source": [
        "# <font color = 'orange'> **2️⃣-2️⃣ Big Sample Size with Non-Gaussian distribution (N > 50)**"
      ],
      "metadata": {
        "id": "aXb0N6620qEc"
      }
    },
    {
      "cell_type": "code",
      "source": [
        "import numpy as np # numeric calculation\n",
        "import pandas as pd # data analysis\n",
        "import seaborn as sns\n",
        "from scipy.stats import kstest, norm # stats\n",
        "\n",
        "\n",
        "# Generate data from an exponential distribution\n",
        "data_big_non_gaussian = np.random.exponential(scale=1, size=100) #generates 100 data points from an exponential distribution with a mean of 1.\n",
        "print(data_big_non_gaussian)\n",
        "print('\\n')\n",
        "\n",
        "# Convert the data to a pandas DataFrame\n",
        "df4 = pd.DataFrame(data_big_non_gaussian, columns=['Values'])\n",
        "print(df4)\n",
        "print('\\n')\n",
        "\n",
        "# Save the DataFrame to a CSV file\n",
        "df4.to_csv('GeneratedNonGaussianBigSampleData.csv', index=True)\n",
        "\n",
        "# 💊 Perform Kolmogorov-Smirnov test for normality ⤵️\n",
        "statistic, p_value = kstest(df4['Values'], 'norm', args=(df4['Values'].mean(), df3['Values'].std()))\n",
        "\n",
        "# Print the test statistic and p-value\n",
        "print(\"Kolmogorov-Smirnov Test Statistic:\", statistic)\n",
        "print(\"p-value:\", p_value)\n",
        "\n",
        "# Define the CTT (critical test threshold, aka., alpha)\n",
        "alpha = 0.05\n",
        "\n",
        "# Interpret the result\n",
        "if p_value > alpha:\n",
        "    print(\"Sample looks Gaussian (fail to reject H0)\")\n",
        "else:\n",
        "    print(\"Sample does not look Gaussian (reject H0)\")\n"
      ],
      "metadata": {
        "id": "5l_cALqUyqoX",
        "outputId": "199fda6f-51a8-48aa-abaf-7031aa2257c3",
        "colab": {
          "base_uri": "https://localhost:8080/"
        }
      },
      "execution_count": null,
      "outputs": [
        {
          "output_type": "stream",
          "name": "stdout",
          "text": [
            "[0.85953275 1.01265947 1.27819929 2.36048599 0.55474291 0.58862248\n",
            " 1.2035242  1.23646662 1.2637868  0.9552593  0.87304622 0.87323307\n",
            " 0.91403432 0.17631937 1.85365478 0.0974163  1.26178134 0.47355396\n",
            " 1.46390248 0.02737667 0.44580343 1.16307943 0.17876292 0.39913219\n",
            " 0.53631876 0.44589715 1.11210726 0.52229496 0.13169152 2.21830047\n",
            " 0.30119863 0.16527746 0.6957948  1.42273938 1.78057497 1.4166112\n",
            " 0.44112599 1.26683988 1.77012879 1.60679542 0.99736683 0.40482794\n",
            " 0.0610484  0.09097642 0.9250749  1.79271769 1.22370259 0.9562223\n",
            " 0.72436297 1.79845033 0.03378886 0.40803643 2.07073474 0.28631142\n",
            " 0.14335735 4.42523508 0.99193757 1.58213974 0.5475387  0.24845443\n",
            " 0.42477741 0.46164258 0.83832854 3.32393758 3.08198383 1.32908708\n",
            " 0.71710016 0.17870445 0.22264152 0.46350908 0.61006152 0.43974669\n",
            " 1.1234754  3.16172626 1.19798485 2.59549313 0.12788208 0.09592737\n",
            " 0.81378667 3.49780414 0.87843344 0.42885049 1.03429924 3.06261289\n",
            " 0.73465315 0.49877748 1.23187166 0.28289134 0.41340328 0.10539381\n",
            " 0.08800961 1.67531302 1.35016298 0.530945   0.86844511 0.64171745\n",
            " 0.68737621 1.7860265  0.3972884  0.29304598]\n",
            "\n",
            "\n",
            "      Values\n",
            "0   0.859533\n",
            "1   1.012659\n",
            "2   1.278199\n",
            "3   2.360486\n",
            "4   0.554743\n",
            "..       ...\n",
            "95  0.641717\n",
            "96  0.687376\n",
            "97  1.786027\n",
            "98  0.397288\n",
            "99  0.293046\n",
            "\n",
            "[100 rows x 1 columns]\n",
            "\n",
            "\n",
            "Kolmogorov-Smirnov Test Statistic: 0.1643923307063957\n",
            "p-value: 0.007883665392180725\n",
            "Sample does not look Gaussian (reject H0)\n"
          ]
        }
      ]
    },
    {
      "cell_type": "markdown",
      "source": [
        "## 💿 💿 3️⃣-1️⃣ When you use your csv. file (e.g., downloading from url or on your machine...)\n",
        "    Be aware that the following script generates the same result for everyone running it!"
      ],
      "metadata": {
        "id": "reXYftIwIjC0"
      }
    },
    {
      "cell_type": "code",
      "source": [
        "import urllib.request"
      ],
      "metadata": {
        "id": "b2NxVxHPjpTp"
      },
      "execution_count": null,
      "outputs": []
    },
    {
      "cell_type": "code",
      "source": [
        "!git clone 'https://github.com/ms624atyale/Pandas_Stats_Data_Analysis_2025'"
      ],
      "metadata": {
        "colab": {
          "base_uri": "https://localhost:8080/"
        },
        "id": "9uf5O5jP-vpb",
        "outputId": "f65bd671-8b9e-4de0-a8a4-0ac0594bc882"
      },
      "execution_count": null,
      "outputs": [
        {
          "output_type": "stream",
          "name": "stdout",
          "text": [
            "Cloning into 'Pandas_Stats_Data_Analysis_2025'...\n",
            "remote: Enumerating objects: 430, done.\u001b[K\n",
            "remote: Counting objects: 100% (127/127), done.\u001b[K\n",
            "remote: Compressing objects: 100% (60/60), done.\u001b[K\n",
            "remote: Total 430 (delta 101), reused 65 (delta 65), pack-reused 303 (from 1)\u001b[K\n",
            "Receiving objects: 100% (430/430), 4.80 MiB | 10.26 MiB/s, done.\n",
            "Resolving deltas: 100% (235/235), done.\n"
          ]
        }
      ]
    },
    {
      "cell_type": "code",
      "source": [
        "url = 'https://raw.githubusercontent.com/ms624atyale/Data_NLP2024/refs/heads/main/GeneratedGaussianBigSampleData.csv'\n",
        "\n",
        "response = urllib.request.urlopen(url)\n",
        "content = response.read().decode('UTF-8')\n",
        "\n",
        "print(content)"
      ],
      "metadata": {
        "colab": {
          "base_uri": "https://localhost:8080/"
        },
        "id": "Z_3SduYG_aD9",
        "outputId": "d5483c5b-f7fe-480b-ac18-cc3d672e184e"
      },
      "execution_count": null,
      "outputs": [
        {
          "output_type": "stream",
          "name": "stdout",
          "text": [
            ",Values\n",
            "0,-0.3893019853247639\n",
            "1,1.826294124221361\n",
            "2,0.9764983106706722\n",
            "3,1.3207400509639244\n",
            "4,0.5466762954832244\n",
            "5,0.9644575186326361\n",
            "6,-0.4483219999240613\n",
            "7,1.2083703133773933\n",
            "8,0.8894323669115846\n",
            "9,0.12890820679317283\n",
            "10,-0.31767822174222604\n",
            "11,2.466791842791489\n",
            "12,0.9074786383682953\n",
            "13,-0.33001750421992715\n",
            "14,1.3409707813695975\n",
            "15,0.16481990599443264\n",
            "16,1.89496537948119\n",
            "17,0.30128476174907104\n",
            "18,0.7965825566157225\n",
            "19,2.976880987395285\n",
            "20,1.97433778701594\n",
            "21,1.0283020634732585\n",
            "22,3.2435112532667567\n",
            "23,-0.02326262393623768\n",
            "24,0.10989361989798607\n",
            "25,1.6515065297471363\n",
            "26,-1.2270846879300308\n",
            "27,0.7910330927681215\n",
            "28,0.4106595770571808\n",
            "29,0.7081703591397273\n",
            "30,0.34142116291210567\n",
            "31,0.8892932440724862\n",
            "32,-2.106996287691787\n",
            "33,0.7022301439146518\n",
            "34,2.7504425806440054\n",
            "35,0.49541967367931317\n",
            "36,1.6806387302727406\n",
            "37,2.7763176277505908\n",
            "38,0.4235075577002062\n",
            "39,0.911691243239547\n",
            "40,0.09359665891737723\n",
            "41,-0.7814132460038632\n",
            "42,-0.3920799757656994\n",
            "43,2.019729113770459\n",
            "44,-0.09363975639257194\n",
            "45,0.6259193075478388\n",
            "46,1.0543580290786605\n",
            "47,0.8980353789249669\n",
            "48,2.6593030222452683\n",
            "49,3.2060285076561432\n",
            "50,0.5602273077543851\n",
            "51,0.777107690181003\n",
            "52,0.6810008313417728\n",
            "53,1.8923012834270105\n",
            "54,1.2260485692565022\n",
            "55,1.0749295550653142\n",
            "56,0.1297638363637975\n",
            "57,1.965611644981486\n",
            "58,2.773478532558477\n",
            "59,1.4487001703228195\n",
            "60,-0.9534714349849955\n",
            "61,0.31472825379247926\n",
            "62,1.9831530171519725\n",
            "63,1.1218235341321765\n",
            "64,1.7470646233141303\n",
            "65,1.7639791710440318\n",
            "66,-0.08975606545530557\n",
            "67,0.6894053612464286\n",
            "68,2.83971606718943\n",
            "69,1.1559051517116279\n",
            "70,1.1709152775857692\n",
            "71,-0.039840767941963895\n",
            "72,1.1099456418598872\n",
            "73,0.12177196230361176\n",
            "74,-0.16225591897082126\n",
            "75,2.2670203114303913\n",
            "76,0.3210706574324478\n",
            "77,1.0775097608731712\n",
            "78,1.2712196931794448\n",
            "79,0.10948094263647201\n",
            "80,1.3571246563953898\n",
            "81,-0.9768912768640365\n",
            "82,1.5861202393784035\n",
            "83,1.4284937665421398\n",
            "84,0.7443387391335902\n",
            "85,-0.27792720934706017\n",
            "86,-0.3771769543554895\n",
            "87,1.3463300899351065\n",
            "88,1.3079622138262077\n",
            "89,-0.5982654740145164\n",
            "90,-0.4515902284947362\n",
            "91,2.0490257233571967\n",
            "92,2.0678683562595537\n",
            "93,2.5819473553142593\n",
            "94,-0.001554169380313164\n",
            "95,1.3200730469653013\n",
            "96,-0.9003854698142157\n",
            "97,1.7358612239374531\n",
            "98,1.9802176477128541\n",
            "99,-0.48910662140812633\n",
            "\n"
          ]
        }
      ]
    },
    {
      "cell_type": "code",
      "source": [
        "df = pd.read_csv(url)\n",
        "df_final = pd.DataFrame(df, columns = ['Values'])\n",
        "print(df_final.head(10))"
      ],
      "metadata": {
        "colab": {
          "base_uri": "https://localhost:8080/"
        },
        "id": "s3gqlxUBk8O3",
        "outputId": "07e58fea-f820-402a-b4a9-27c95fbeedeb"
      },
      "execution_count": null,
      "outputs": [
        {
          "output_type": "stream",
          "name": "stdout",
          "text": [
            "     Values\n",
            "0 -0.389302\n",
            "1  1.826294\n",
            "2  0.976498\n",
            "3  1.320740\n",
            "4  0.546676\n",
            "5  0.964458\n",
            "6 -0.448322\n",
            "7  1.208370\n",
            "8  0.889432\n",
            "9  0.128908\n"
          ]
        }
      ]
    },
    {
      "cell_type": "code",
      "source": [
        "df_final.to_csv('GeneratedGaussianBigSampleData.csv', index = True)"
      ],
      "metadata": {
        "id": "rKhRwS3blbsc"
      },
      "execution_count": null,
      "outputs": []
    },
    {
      "cell_type": "code",
      "source": [
        "url2 = 'https://raw.githubusercontent.com/ms624atyale/Data_NLP2024/refs/heads/main/GeneratedNonGaussianBigSampleData.csv'\n",
        "\n",
        "response2 = urllib.request.urlopen(url2)\n",
        "content2 = response2.read().decode('utf-8')\n",
        "print(content2)"
      ],
      "metadata": {
        "collapsed": true,
        "colab": {
          "base_uri": "https://localhost:8080/"
        },
        "id": "WfL47QsymaTR",
        "outputId": "01b27c08-c863-4a9e-99d3-96fbd3797b67"
      },
      "execution_count": null,
      "outputs": [
        {
          "output_type": "stream",
          "name": "stdout",
          "text": [
            ",Values\n",
            "0,0.8046249101789011\n",
            "1,0.7682633952778323\n",
            "2,2.29079474852387\n",
            "3,2.43049129356199\n",
            "4,0.22989047327431966\n",
            "5,1.2695775219688306\n",
            "6,1.5502049192934948\n",
            "7,0.6787202219323324\n",
            "8,0.22117171942820463\n",
            "9,2.9517509864784737\n",
            "10,0.12052944227476772\n",
            "11,1.064955819442374\n",
            "12,0.30848186348640205\n",
            "13,0.06518881425631175\n",
            "14,0.18957383843154857\n",
            "15,1.9881311940832913\n",
            "16,0.027475817727749964\n",
            "17,0.668198401809793\n",
            "18,1.643372192477434\n",
            "19,0.6661320348586599\n",
            "20,0.4858621499396462\n",
            "21,1.497146846535357\n",
            "22,0.3397411725832874\n",
            "23,1.3136729958663007\n",
            "24,0.015315767203609141\n",
            "25,1.050296600560083\n",
            "26,0.07351300447309597\n",
            "27,0.18903031133842235\n",
            "28,1.8528409942704889\n",
            "29,0.8045627817552868\n",
            "30,1.1385038247356605\n",
            "31,0.7504151240901326\n",
            "32,2.843288301004686\n",
            "33,0.43152688554688545\n",
            "34,2.1104081028531496\n",
            "35,1.296439563374763\n",
            "36,0.20905245998725341\n",
            "37,0.14050027016518182\n",
            "38,0.09064639394496869\n",
            "39,3.2505938541435437\n",
            "40,1.0146369290543638\n",
            "41,0.37740653545723485\n",
            "42,0.6658700571994811\n",
            "43,0.17384330553636212\n",
            "44,0.08471930073362877\n",
            "45,0.6996237390820352\n",
            "46,0.5031787303407206\n",
            "47,0.056950899968815596\n",
            "48,0.746172369893011\n",
            "49,2.270674455937503\n",
            "50,1.5220228395388342\n",
            "51,0.7409241785656789\n",
            "52,1.392641044033556\n",
            "53,0.6133897428364232\n",
            "54,1.8222528841159946\n",
            "55,0.7028728207234378\n",
            "56,0.583173043687956\n",
            "57,0.741183279437999\n",
            "58,0.874039957266335\n",
            "59,0.6086829433739334\n",
            "60,2.2561442457145766\n",
            "61,0.3486121366360994\n",
            "62,0.16278232521963543\n",
            "63,1.5622889131749889\n",
            "64,1.6813498213224776\n",
            "65,0.43074391889200886\n",
            "66,1.2299039598189296\n",
            "67,0.918776495245721\n",
            "68,1.9135035998546084\n",
            "69,0.3038096382794121\n",
            "70,0.6077458951181605\n",
            "71,0.16669640845069214\n",
            "72,0.04360223185182008\n",
            "73,0.9152974382586234\n",
            "74,0.8849766575036361\n",
            "75,0.41009681507559825\n",
            "76,0.0726671925679987\n",
            "77,0.6161972422991362\n",
            "78,0.36970606739497053\n",
            "79,0.6045644094909686\n",
            "80,0.18877393449612728\n",
            "81,1.8921145295290784\n",
            "82,0.9676021807850521\n",
            "83,0.17156003991507154\n",
            "84,0.055925456769043834\n",
            "85,1.402531334660634\n",
            "86,0.7657016904045993\n",
            "87,0.6059239447500606\n",
            "88,1.186902878676455\n",
            "89,0.7019008280669858\n",
            "90,0.6331591785822229\n",
            "91,0.4775404350251007\n",
            "92,2.48455469337317\n",
            "93,1.9651302735080403\n",
            "94,1.540384674007286\n",
            "95,2.597039146069859\n",
            "96,1.0474283384986214\n",
            "97,0.6350619890107608\n",
            "98,2.0106801389565137\n",
            "99,0.7457131414776356\n",
            "\n"
          ]
        }
      ]
    },
    {
      "cell_type": "code",
      "source": [
        "df2 = pd.read_csv(url2)\n",
        "df2_final = pd.DataFrame(df2, columns = ['Values'])\n",
        "print(df2_final.head())"
      ],
      "metadata": {
        "colab": {
          "base_uri": "https://localhost:8080/"
        },
        "id": "hFS9gDq_m2ga",
        "outputId": "b14230b0-18f1-40a6-bfa1-2cb207d4377c"
      },
      "execution_count": null,
      "outputs": [
        {
          "output_type": "stream",
          "name": "stdout",
          "text": [
            "     Values\n",
            "0  0.804625\n",
            "1  0.768263\n",
            "2  2.290795\n",
            "3  2.430491\n",
            "4  0.229890\n"
          ]
        }
      ]
    },
    {
      "cell_type": "code",
      "source": [
        "df2_final.to_csv('GeneratedNonGaussianBigSampleData.csv', index = True)"
      ],
      "metadata": {
        "id": "DQbJNP7pnRER"
      },
      "execution_count": null,
      "outputs": []
    },
    {
      "cell_type": "code",
      "source": [
        "import urllib.request\n",
        "\n",
        "#🍎 URL of the CSV file\n",
        "url = 'https://raw.githubusercontent.com/ms624atyale/Data_NLP2024/main/GeneratedGaussianBigSampleData.csv'\n",
        "response = urllib.request.urlopen(url)\n",
        "content = response.read().decode('utf-8')\n",
        "print(content)\n",
        "\n",
        "# Read the CSV data from the URL into a pandas DataFrame\n",
        "df = pd.read_csv(url)\n",
        "\n",
        "# Specify the column name\n",
        "df_final = pd.DataFrame(df, columns=['Values'])\n",
        "print(df_final)\n",
        "print('\\n')\n",
        "\n",
        "# Save the DataFrame to a CSV file with index numbers\n",
        "df_final.to_csv('GeneratedGaussianBigSampleData.csv', index=True)\n",
        "\n",
        "\n",
        "#🍎 URL of the CSV file\n",
        "url2 = 'https://raw.githubusercontent.com/ms624atyale/Data_NLP2024/main/GeneratedNonGaussianBigSampleData.csv'\n",
        "response2 = urllib.request.urlopen(url2)\n",
        "content2 = response2.read().decode('utf-8')\n",
        "print(content2)\n",
        "\n",
        "# Read the CSV data from the URL into a pandas DataFrame\n",
        "df2 = pd.read_csv(url2)\n",
        "\n",
        "# Specify the column name\n",
        "df2_final = pd.DataFrame(df2, columns=['Values'])\n",
        "print(df2_final)\n",
        "print('\\n')\n",
        "\n",
        "# Save the DataFrame to a CSV file with index numbers\n",
        "df2_final.to_csv('GeneratedNonGaussianBigSampleData.csv', index=True)"
      ],
      "metadata": {
        "id": "wPHxUzL21lQr",
        "outputId": "bfb30ebc-1fb9-45e3-a22b-ed2d70bd83f9",
        "colab": {
          "base_uri": "https://localhost:8080/"
        },
        "collapsed": true
      },
      "execution_count": null,
      "outputs": [
        {
          "output_type": "stream",
          "name": "stdout",
          "text": [
            ",Values\n",
            "0,-0.3893019853247639\n",
            "1,1.826294124221361\n",
            "2,0.9764983106706722\n",
            "3,1.3207400509639244\n",
            "4,0.5466762954832244\n",
            "5,0.9644575186326361\n",
            "6,-0.4483219999240613\n",
            "7,1.2083703133773933\n",
            "8,0.8894323669115846\n",
            "9,0.12890820679317283\n",
            "10,-0.31767822174222604\n",
            "11,2.466791842791489\n",
            "12,0.9074786383682953\n",
            "13,-0.33001750421992715\n",
            "14,1.3409707813695975\n",
            "15,0.16481990599443264\n",
            "16,1.89496537948119\n",
            "17,0.30128476174907104\n",
            "18,0.7965825566157225\n",
            "19,2.976880987395285\n",
            "20,1.97433778701594\n",
            "21,1.0283020634732585\n",
            "22,3.2435112532667567\n",
            "23,-0.02326262393623768\n",
            "24,0.10989361989798607\n",
            "25,1.6515065297471363\n",
            "26,-1.2270846879300308\n",
            "27,0.7910330927681215\n",
            "28,0.4106595770571808\n",
            "29,0.7081703591397273\n",
            "30,0.34142116291210567\n",
            "31,0.8892932440724862\n",
            "32,-2.106996287691787\n",
            "33,0.7022301439146518\n",
            "34,2.7504425806440054\n",
            "35,0.49541967367931317\n",
            "36,1.6806387302727406\n",
            "37,2.7763176277505908\n",
            "38,0.4235075577002062\n",
            "39,0.911691243239547\n",
            "40,0.09359665891737723\n",
            "41,-0.7814132460038632\n",
            "42,-0.3920799757656994\n",
            "43,2.019729113770459\n",
            "44,-0.09363975639257194\n",
            "45,0.6259193075478388\n",
            "46,1.0543580290786605\n",
            "47,0.8980353789249669\n",
            "48,2.6593030222452683\n",
            "49,3.2060285076561432\n",
            "50,0.5602273077543851\n",
            "51,0.777107690181003\n",
            "52,0.6810008313417728\n",
            "53,1.8923012834270105\n",
            "54,1.2260485692565022\n",
            "55,1.0749295550653142\n",
            "56,0.1297638363637975\n",
            "57,1.965611644981486\n",
            "58,2.773478532558477\n",
            "59,1.4487001703228195\n",
            "60,-0.9534714349849955\n",
            "61,0.31472825379247926\n",
            "62,1.9831530171519725\n",
            "63,1.1218235341321765\n",
            "64,1.7470646233141303\n",
            "65,1.7639791710440318\n",
            "66,-0.08975606545530557\n",
            "67,0.6894053612464286\n",
            "68,2.83971606718943\n",
            "69,1.1559051517116279\n",
            "70,1.1709152775857692\n",
            "71,-0.039840767941963895\n",
            "72,1.1099456418598872\n",
            "73,0.12177196230361176\n",
            "74,-0.16225591897082126\n",
            "75,2.2670203114303913\n",
            "76,0.3210706574324478\n",
            "77,1.0775097608731712\n",
            "78,1.2712196931794448\n",
            "79,0.10948094263647201\n",
            "80,1.3571246563953898\n",
            "81,-0.9768912768640365\n",
            "82,1.5861202393784035\n",
            "83,1.4284937665421398\n",
            "84,0.7443387391335902\n",
            "85,-0.27792720934706017\n",
            "86,-0.3771769543554895\n",
            "87,1.3463300899351065\n",
            "88,1.3079622138262077\n",
            "89,-0.5982654740145164\n",
            "90,-0.4515902284947362\n",
            "91,2.0490257233571967\n",
            "92,2.0678683562595537\n",
            "93,2.5819473553142593\n",
            "94,-0.001554169380313164\n",
            "95,1.3200730469653013\n",
            "96,-0.9003854698142157\n",
            "97,1.7358612239374531\n",
            "98,1.9802176477128541\n",
            "99,-0.48910662140812633\n",
            "\n",
            "      Values\n",
            "0  -0.389302\n",
            "1   1.826294\n",
            "2   0.976498\n",
            "3   1.320740\n",
            "4   0.546676\n",
            "..       ...\n",
            "95  1.320073\n",
            "96 -0.900385\n",
            "97  1.735861\n",
            "98  1.980218\n",
            "99 -0.489107\n",
            "\n",
            "[100 rows x 1 columns]\n",
            "\n",
            "\n",
            ",Values\n",
            "0,0.8046249101789011\n",
            "1,0.7682633952778323\n",
            "2,2.29079474852387\n",
            "3,2.43049129356199\n",
            "4,0.22989047327431966\n",
            "5,1.2695775219688306\n",
            "6,1.5502049192934948\n",
            "7,0.6787202219323324\n",
            "8,0.22117171942820463\n",
            "9,2.9517509864784737\n",
            "10,0.12052944227476772\n",
            "11,1.064955819442374\n",
            "12,0.30848186348640205\n",
            "13,0.06518881425631175\n",
            "14,0.18957383843154857\n",
            "15,1.9881311940832913\n",
            "16,0.027475817727749964\n",
            "17,0.668198401809793\n",
            "18,1.643372192477434\n",
            "19,0.6661320348586599\n",
            "20,0.4858621499396462\n",
            "21,1.497146846535357\n",
            "22,0.3397411725832874\n",
            "23,1.3136729958663007\n",
            "24,0.015315767203609141\n",
            "25,1.050296600560083\n",
            "26,0.07351300447309597\n",
            "27,0.18903031133842235\n",
            "28,1.8528409942704889\n",
            "29,0.8045627817552868\n",
            "30,1.1385038247356605\n",
            "31,0.7504151240901326\n",
            "32,2.843288301004686\n",
            "33,0.43152688554688545\n",
            "34,2.1104081028531496\n",
            "35,1.296439563374763\n",
            "36,0.20905245998725341\n",
            "37,0.14050027016518182\n",
            "38,0.09064639394496869\n",
            "39,3.2505938541435437\n",
            "40,1.0146369290543638\n",
            "41,0.37740653545723485\n",
            "42,0.6658700571994811\n",
            "43,0.17384330553636212\n",
            "44,0.08471930073362877\n",
            "45,0.6996237390820352\n",
            "46,0.5031787303407206\n",
            "47,0.056950899968815596\n",
            "48,0.746172369893011\n",
            "49,2.270674455937503\n",
            "50,1.5220228395388342\n",
            "51,0.7409241785656789\n",
            "52,1.392641044033556\n",
            "53,0.6133897428364232\n",
            "54,1.8222528841159946\n",
            "55,0.7028728207234378\n",
            "56,0.583173043687956\n",
            "57,0.741183279437999\n",
            "58,0.874039957266335\n",
            "59,0.6086829433739334\n",
            "60,2.2561442457145766\n",
            "61,0.3486121366360994\n",
            "62,0.16278232521963543\n",
            "63,1.5622889131749889\n",
            "64,1.6813498213224776\n",
            "65,0.43074391889200886\n",
            "66,1.2299039598189296\n",
            "67,0.918776495245721\n",
            "68,1.9135035998546084\n",
            "69,0.3038096382794121\n",
            "70,0.6077458951181605\n",
            "71,0.16669640845069214\n",
            "72,0.04360223185182008\n",
            "73,0.9152974382586234\n",
            "74,0.8849766575036361\n",
            "75,0.41009681507559825\n",
            "76,0.0726671925679987\n",
            "77,0.6161972422991362\n",
            "78,0.36970606739497053\n",
            "79,0.6045644094909686\n",
            "80,0.18877393449612728\n",
            "81,1.8921145295290784\n",
            "82,0.9676021807850521\n",
            "83,0.17156003991507154\n",
            "84,0.055925456769043834\n",
            "85,1.402531334660634\n",
            "86,0.7657016904045993\n",
            "87,0.6059239447500606\n",
            "88,1.186902878676455\n",
            "89,0.7019008280669858\n",
            "90,0.6331591785822229\n",
            "91,0.4775404350251007\n",
            "92,2.48455469337317\n",
            "93,1.9651302735080403\n",
            "94,1.540384674007286\n",
            "95,2.597039146069859\n",
            "96,1.0474283384986214\n",
            "97,0.6350619890107608\n",
            "98,2.0106801389565137\n",
            "99,0.7457131414776356\n",
            "\n",
            "      Values\n",
            "0   0.804625\n",
            "1   0.768263\n",
            "2   2.290795\n",
            "3   2.430491\n",
            "4   0.229890\n",
            "..       ...\n",
            "95  2.597039\n",
            "96  1.047428\n",
            "97  0.635062\n",
            "98  2.010680\n",
            "99  0.745713\n",
            "\n",
            "[100 rows x 1 columns]\n",
            "\n",
            "\n"
          ]
        }
      ]
    },
    {
      "cell_type": "markdown",
      "source": [
        "#📊 **Gaussian Distribution Graph** using an uploaded file"
      ],
      "metadata": {
        "id": "1P-LDKW6YTpX"
      }
    },
    {
      "cell_type": "code",
      "source": [
        "import numpy as np\n",
        "import pandas as pd\n",
        "import matplotlib.pyplot as plt\n",
        "from scipy.stats import kstest, norm"
      ],
      "metadata": {
        "id": "IlRN9B6NnjRW"
      },
      "execution_count": null,
      "outputs": []
    },
    {
      "cell_type": "code",
      "source": [
        "data5_gaussian = pd.read_csv('/content/GeneratedGaussianBigSampleData.csv')\n",
        "df5 = data5_gaussian['Values']"
      ],
      "metadata": {
        "id": "O1yI4rY-nx5V"
      },
      "execution_count": null,
      "outputs": []
    },
    {
      "cell_type": "code",
      "source": [
        "statistic, p_value = kstest(df5, 'norm', args = (df5.mean(), df5.std()))\n",
        "\n",
        "print(\"Kolmogorov-Smirnov Test Statistic:\", statistic)\n",
        "print(\"p-value:\", p_value)"
      ],
      "metadata": {
        "colab": {
          "base_uri": "https://localhost:8080/"
        },
        "id": "0TVrOlTUoIKg",
        "outputId": "8afb7b26-1d14-4750-c468-4d797b2a13a8"
      },
      "execution_count": null,
      "outputs": [
        {
          "output_type": "stream",
          "name": "stdout",
          "text": [
            "Kolmogorov-Smirnov Test Statistic: 0.044021909075028676\n",
            "p-value: 0.9856175383924907\n"
          ]
        }
      ]
    },
    {
      "cell_type": "code",
      "source": [
        "alpha = 0.05\n",
        "\n",
        "if p_value > alpha:\n",
        "    print(\"Sample looks Gaussian (fail to reject H0)\")\n",
        "else:\n",
        "    print(\"Sample does not look Gaussian (reject H0)\")"
      ],
      "metadata": {
        "colab": {
          "base_uri": "https://localhost:8080/"
        },
        "id": "yNYM6yvbodGN",
        "outputId": "8e253885-8b64-46ca-f9ab-c94fc8ac04d1"
      },
      "execution_count": null,
      "outputs": [
        {
          "output_type": "stream",
          "name": "stdout",
          "text": [
            "Sample looks Gaussian (fail to reject H0)\n"
          ]
        }
      ]
    },
    {
      "cell_type": "code",
      "source": [
        "plt.figure(figsize = (10, 6))\n",
        "sns.set_style('darkgrid')\n",
        "sns.histplot(df5, kde = True, color = 'yellow', stat = 'density')\n",
        "\n",
        "mu, sigma = np.mean(df5), np.std(df5)\n",
        "x = np.linspace(mu - 3 * sigma, mu + 3 * sigma, 100)\n",
        "plt.plot(x, norm.pdf(x, mu, sigma), 'r', label = 'Normal Distribution')\n",
        "\n",
        "plt.xlabel('Data')\n",
        "plt.ylabel('Density')\n",
        "plt.title('Histogram of Data with Normal Distribution')\n",
        "plt.legend()\n",
        "plt.show()"
      ],
      "metadata": {
        "colab": {
          "base_uri": "https://localhost:8080/",
          "height": 564
        },
        "id": "V942eKlRBPM0",
        "outputId": "a9d9065d-eaab-4ae4-8994-044fdb90d45b"
      },
      "execution_count": null,
      "outputs": [
        {
          "output_type": "display_data",
          "data": {
            "text/plain": [
              "<Figure size 1000x600 with 1 Axes>"
            ],
            "image/png": "[encoded data removed]"
          },
          "metadata": {}
        }
      ]
    },
    {
      "cell_type": "code",
      "source": [
        "import numpy as np\n",
        "import pandas as pd\n",
        "import matplotlib.pyplot as plt\n",
        "from scipy.stats import kstest, norm\n",
        "\n",
        "# Load the data from the CSV file\n",
        "data5_gaussian = pd.read_csv('/content/GeneratedGaussianBigSampleData.csv')\n",
        "df5 = data5_gaussian['Values']  # Extract the column containing the data\n",
        "\n",
        "# Perform Kolmogorov-Smirnov test for normality\n",
        "statistic, p_value = kstest(df5, 'norm')\n",
        "\n",
        "# 💊 The following codeline for Kolmogorov-Smirnov test for normality does not work... ⤵️\n",
        "#statistic, p_value = kstest(df5['Values'], 'norm', args=(df5['Values'].mean(), df5['Values'].std()))\n",
        "\n",
        "# Print the test statistic and p-value\n",
        "print(\"Kolmogorov-Smirnov Test Statistic:\", statistic)\n",
        "print(\"p-value:\", p_value)\n",
        "\n",
        "# Define the CTT (critical test threshold, aka., alpha)\n",
        "alpha = 0.05\n",
        "\n",
        "# Interpret the result\n",
        "if p_value > alpha:\n",
        "    print(\"Sample looks Gaussian (fail to reject H0)\")\n",
        "else:\n",
        "    print(\"Sample does not look Gaussian (reject H0)\")\n",
        "\n",
        "# Plot histogram of the data\n",
        "plt.figure(figsize=(10, 6))\n",
        "sns.histplot(df5, kde=True, color='yellow', stat='density')\n",
        "\n",
        "# Plot normal distribution curve\n",
        "mu, sigma = np.mean(df5), np.std(df5)\n",
        "x = np.linspace(mu - 3*sigma, mu + 3*sigma, 100)\n",
        "plt.plot(x, norm.pdf(x, mu, sigma), 'r-', label='Normal Distribution')\n",
        "\n",
        "plt.xlabel('Data')\n",
        "plt.ylabel('Density')\n",
        "plt.title('Histogram of Data with Normal Distribution')\n",
        "plt.legend()\n",
        "plt.show()"
      ],
      "metadata": {
        "colab": {
          "base_uri": "https://localhost:8080/",
          "height": 616
        },
        "id": "Z9qyDf725sgH",
        "outputId": "cd6c614c-05d8-4fdb-d338-c4809bac0451"
      },
      "execution_count": null,
      "outputs": [
        {
          "output_type": "stream",
          "name": "stdout",
          "text": [
            "Kolmogorov-Smirnov Test Statistic: 0.362064517801998\n",
            "p-value: 2.9900178835171845e-12\n",
            "Sample does not look Gaussian (reject H0)\n"
          ]
        },
        {
          "output_type": "display_data",
          "data": {
            "text/plain": [
              "<Figure size 1000x600 with 1 Axes>"
            ],
            "image/png": "[encoded data removed]"
          },
          "metadata": {}
        }
      ]
    },
    {
      "cell_type": "markdown",
      "source": [
        "## 💿 💿 3️⃣-2️⃣ When you use your csv. file...\n",
        "    Be aware that the following script generates the same result for everyone running it!"
      ],
      "metadata": {
        "id": "Vi2ohS-YZTMm"
      }
    },
    {
      "cell_type": "markdown",
      "source": [
        "#📊 **Non-Gaussian Distribution Graph** using an uploaded file"
      ],
      "metadata": {
        "id": "1imQ_aEFY2Pe"
      }
    },
    {
      "cell_type": "code",
      "source": [
        "import numpy as np\n",
        "import pandas as pd\n",
        "import seaborn as sns\n",
        "import matplotlib.pyplot as plt\n",
        "from scipy.stats import shapiro\n",
        "from scipy.stats import kstest, norm, expon"
      ],
      "metadata": {
        "id": "pixkGvg-roAr"
      },
      "execution_count": null,
      "outputs": []
    },
    {
      "cell_type": "code",
      "source": [
        "data6_non_gaussian = pd.read_csv('/content/GeneratedNonGaussianBigSampleData.csv')\n",
        "\n",
        "df6 = pd.DataFrame(data6_non_gaussian, columns = ['Values'])\n",
        "print(df6)"
      ],
      "metadata": {
        "colab": {
          "base_uri": "https://localhost:8080/"
        },
        "id": "AbUDYyc_sEif",
        "outputId": "77bfde4e-de7b-4402-b21d-7e5037605a30"
      },
      "execution_count": null,
      "outputs": [
        {
          "output_type": "stream",
          "name": "stdout",
          "text": [
            "      Values\n",
            "0   0.804625\n",
            "1   0.768263\n",
            "2   2.290795\n",
            "3   2.430491\n",
            "4   0.229890\n",
            "..       ...\n",
            "95  2.597039\n",
            "96  1.047428\n",
            "97  0.635062\n",
            "98  2.010680\n",
            "99  0.745713\n",
            "\n",
            "[100 rows x 1 columns]\n"
          ]
        }
      ]
    },
    {
      "cell_type": "code",
      "source": [
        "statistic, p_value = kstest(df6, 'norm', args = (df6['Values'].mean(), df6['Values'].std()))\n",
        "\n",
        "print(\"Kolmogorov-Smirnov Test Statistic:\", statistic)\n",
        "print(\"p-value:\", p_value)"
      ],
      "metadata": {
        "colab": {
          "base_uri": "https://localhost:8080/"
        },
        "id": "35w_KBSYsnHb",
        "outputId": "56537bad-a30e-4a68-ac97-ca1cd53fd5e7"
      },
      "execution_count": null,
      "outputs": [
        {
          "output_type": "stream",
          "name": "stdout",
          "text": [
            "Kolmogorov-Smirnov Test Statistic: [0.15828709]\n",
            "p-value: [0.01178374]\n"
          ]
        }
      ]
    },
    {
      "cell_type": "code",
      "source": [
        "alpha = 0.05\n",
        "\n",
        "if p_value > alpha:\n",
        "    print(\"Sample looks Gaussian (fail to reject H0)\")\n",
        "else:\n",
        "    print(\"Sample does not look Gaussian (reject H0)\")"
      ],
      "metadata": {
        "colab": {
          "base_uri": "https://localhost:8080/"
        },
        "id": "j9d1xQ_ZtTsN",
        "outputId": "b85245d3-72a5-4e54-d046-44ba448d6f79"
      },
      "execution_count": null,
      "outputs": [
        {
          "output_type": "stream",
          "name": "stdout",
          "text": [
            "Sample does not look Gaussian (reject H0)\n"
          ]
        }
      ]
    },
    {
      "cell_type": "code",
      "source": [
        "plt.figure(figsize=(10,6))\n",
        "sns.histplot(df6, kde = True, color = 'skyblue', stat = 'density')\n",
        "\n",
        "x = np.linspace(0, df6['Values'].max(), 100)\n",
        "plt.plot(x, expon.pdf(x, scale = 1), 'r-', label = 'Exponential Distribution')\n",
        "\n",
        "plt.xlabel('Data')\n",
        "plt.ylabel('Density')\n",
        "plt.title('Histogram of Data without Normal Distribution')\n",
        "plt.legend()\n",
        "plt.show()"
      ],
      "metadata": {
        "colab": {
          "base_uri": "https://localhost:8080/",
          "height": 564
        },
        "id": "w6ZOdLp9tZ71",
        "outputId": "71e9807e-3bd1-4d2e-d0d9-0df513844f78"
      },
      "execution_count": null,
      "outputs": [
        {
          "output_type": "display_data",
          "data": {
            "text/plain": [
              "<Figure size 1000x600 with 1 Axes>"
            ],
            "image/png": "[encoded data removed]"
          },
          "metadata": {}
        }
      ]
    },
    {
      "cell_type": "code",
      "source": [
        "import numpy as np\n",
        "import pandas as pd\n",
        "from scipy.stats import shapiro\n",
        "\n",
        "import matplotlib.pyplot as plt\n",
        "from scipy.stats import kstest, norm, expon\n",
        "import seaborn as sns\n",
        "\n",
        "# Load the data from the CSV file\n",
        "data6_non_gaussian = pd.read_csv('/content/GeneratedNonGaussianBigSampleData.csv')\n",
        "df6 = data6_non_gaussian['Values']  # Extract the column containing the data\n",
        "\n",
        "# Convert the data to a pandas DataFrame\n",
        "df6 = pd.DataFrame(df6, columns=['Values'])\n",
        "\n",
        "# 💊 Perform Kolmogorov-Smirnov test for normality ⤵️\n",
        "statistic, p_value = kstest(df6['Values'], 'norm', args=(df6['Values'].mean(), df6['Values'].std()))\n",
        "\n",
        "# Print the test statistic and p-value\n",
        "print(\"Kolmogorov-Smirnov Test Statistic:\", statistic)\n",
        "print(\"p-value:\", p_value)\n",
        "\n",
        "# Define the CTT (critical test threshold, aka., alpha)\n",
        "alpha = 0.05\n",
        "\n",
        "# Interpret the result\n",
        "if p_value > alpha:\n",
        "    print(\"Sample looks Gaussian (fail to reject H0)\")\n",
        "else:\n",
        "    print(\"Sample does not look Gaussian (reject H0)\")\n",
        "\n",
        "# Display the full set of data points\n",
        "print(\"Full set of data points:\")\n",
        "print(df6)\n",
        "\n",
        "# Plot histogram of the data\n",
        "plt.figure(figsize=(10, 6))\n",
        "sns.histplot(df6, kde=True, color='skyblue', stat='density')\n",
        "\n",
        "# Plot exponential distribution curve (💊 Caution: Code lines for plotting Normal distribution curve is different!)\n",
        "scale = 1  # Exponential distribution scale parameter (mean) gives a standard exponential distribution with a mean of 1.\n",
        "# scale = 1 (Lambda = 1) is a common default because it simplifies the mathematics and is often used when the specific rate is not critical to the problem at hand.\n",
        "x = np.linspace(0, df6['Values'].max(), 100)\n",
        "plt.plot(x, expon.pdf(x, scale=scale), 'r-', label='Exponential Distribution')\n",
        "\n",
        "plt.xlabel('Data')\n",
        "plt.ylabel('Density')\n",
        "plt.title('Histogram of Data without Normal Distribution')\n",
        "plt.legend()\n",
        "plt.show()"
      ],
      "metadata": {
        "id": "0dnk1Z_lT2zZ",
        "outputId": "bb72b3df-e976-42da-f9d8-9d12aa013484",
        "colab": {
          "base_uri": "https://localhost:8080/",
          "height": 876
        }
      },
      "execution_count": null,
      "outputs": [
        {
          "output_type": "stream",
          "name": "stdout",
          "text": [
            "Kolmogorov-Smirnov Test Statistic: 0.15828709378215222\n",
            "p-value: 0.011783742262732044\n",
            "Sample does not look Gaussian (reject H0)\n",
            "Full set of data points:\n",
            "      Values\n",
            "0   0.804625\n",
            "1   0.768263\n",
            "2   2.290795\n",
            "3   2.430491\n",
            "4   0.229890\n",
            "..       ...\n",
            "95  2.597039\n",
            "96  1.047428\n",
            "97  0.635062\n",
            "98  2.010680\n",
            "99  0.745713\n",
            "\n",
            "[100 rows x 1 columns]\n"
          ]
        },
        {
          "output_type": "display_data",
          "data": {
            "text/plain": [
              "<Figure size 1000x600 with 1 Axes>"
            ],
            "image/png": "[encoded data removed]"
          },
          "metadata": {}
        }
      ]
    },
    {
      "cell_type": "markdown",
      "source": [
        "## ➡️ T-test (with either SW test or KS test, p>0.05)\n",
        "## ➡️➡️ Wilcoxon Rank Sum text (with either SW test or KS test, p<0.05)"
      ],
      "metadata": {
        "id": "P3pOREs73Bnf"
      }
    }
  ]
}