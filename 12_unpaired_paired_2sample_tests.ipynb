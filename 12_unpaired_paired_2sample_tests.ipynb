{
  "nbformat": 4,
  "nbformat_minor": 0,
  "metadata": {
    "colab": {
      "provenance": [],
      "include_colab_link": true
    },
    "kernelspec": {
      "name": "python3",
      "display_name": "Python 3"
    },
    "language_info": {
      "name": "python"
    }
  },
  "cells": [
    {
      "cell_type": "markdown",
      "metadata": {
        "id": "view-in-github",
        "colab_type": "text"
      },
      "source": [
        "<a href=\"https://colab.research.google.com/github/SEOWOOJI/Pandas_Stats_Data_Analysis_2025/blob/main/12_unpaired_paired_2sample_tests.ipynb\" target=\"_parent\"><img src=\"https://colab.research.google.com/assets/colab-badge.svg\" alt=\"Open In Colab\"/></a>"
      ]
    },
    {
      "cell_type": "markdown",
      "source": [
        "# 💦🔥 Parametric vs. Non-Parametric Tests 모수 대 비모수 통계 ⤵️\n",
        "\n",
        "- Parametric test when data shows Gausian distribution\n",
        "- Non-Parametric test when data fails to show Gausian distribution"
      ],
      "metadata": {
        "id": "hAxa05Ua1CxD"
      }
    },
    {
      "cell_type": "markdown",
      "source": [
        "# 💦🔥 <font color = 'red'>**1️⃣ Unpaired Comparisons</font> with independent samples** ⤵️\n",
        "- **<font color = 'brown'>Unpaired Student's t-test</font>** which satisfy normaility\n",
        "- **<font color = 'brown'>Mann Whitney U test</font>** which _fails to_ satisfy normaility"
      ],
      "metadata": {
        "id": "es7DBG242QVh"
      }
    },
    {
      "cell_type": "markdown",
      "source": [
        "## 1️⃣-1️⃣ **Unpaired student's t-test**"
      ],
      "metadata": {
        "id": "PLBcVeKrgiEE"
      }
    },
    {
      "cell_type": "code",
      "source": [
        "!git clone https://github.com/ms624atyale/Pandas_Stats_Data_Analysis_2025"
      ],
      "metadata": {
        "colab": {
          "base_uri": "https://localhost:8080/"
        },
        "id": "1uWUD3JB0lof",
        "outputId": "efeef1d2-8eae-4891-b22f-d3ef1baa17ad"
      },
      "execution_count": null,
      "outputs": [
        {
          "output_type": "stream",
          "name": "stdout",
          "text": [
            "Cloning into 'Pandas_Stats_Data_Analysis_2025'...\n",
            "remote: Enumerating objects: 451, done.\u001b[K\n",
            "remote: Counting objects: 100% (148/148), done.\u001b[K\n",
            "remote: Compressing objects: 100% (81/81), done.\u001b[K\n",
            "remote: Total 451 (delta 113), reused 65 (delta 65), pack-reused 303 (from 1)\u001b[K\n",
            "Receiving objects: 100% (451/451), 4.82 MiB | 14.05 MiB/s, done.\n",
            "Resolving deltas: 100% (247/247), done.\n"
          ]
        }
      ]
    },
    {
      "cell_type": "code",
      "source": [
        "import pandas as pd\n",
        "import numpy as np\n",
        "from scipy.stats import ttest_ind"
      ],
      "metadata": {
        "id": "Sds4cKHfywpA"
      },
      "execution_count": null,
      "outputs": []
    },
    {
      "cell_type": "code",
      "source": [
        "data = pd.read_csv('/content/Pandas_Stats_Data_Analysis_2025/TwoGroupData_Base4Ttest_Independent.csv')\n",
        "\n",
        "group1 = data[data['Group'] == 1]['Values']\n",
        "group2 = data[data['Group'] == 2]['Values']\n",
        "\n",
        "group1.head(3), group2.head(3)"
      ],
      "metadata": {
        "colab": {
          "base_uri": "https://localhost:8080/"
        },
        "id": "PUJeVyCJy-KS",
        "outputId": "56281e96-3058-43f5-c5c6-65cfb9d55329"
      },
      "execution_count": null,
      "outputs": [
        {
          "output_type": "execute_result",
          "data": {
            "text/plain": [
              "(0   -0.041064\n",
              " 1    2.826195\n",
              " 2   -0.181216\n",
              " Name: Values, dtype: float64,\n",
              " 25    0.720399\n",
              " 26    0.431699\n",
              " 27    1.231168\n",
              " Name: Values, dtype: float64)"
            ]
          },
          "metadata": {},
          "execution_count": 6
        }
      ]
    },
    {
      "cell_type": "code",
      "source": [
        "statistic, p_value = ttest_ind(group1, group2, equal_var=True)\n",
        "print(f'ttest-statistic : {statistic}')\n",
        "print(f'p-value : {p_value}')\n",
        "print()\n",
        "\n",
        "alpha = 0.05\n",
        "\n",
        "if alpha > p_value:\n",
        "  print('H0 is rejected')\n",
        "else:\n",
        "  print('Fail to reject H0')"
      ],
      "metadata": {
        "colab": {
          "base_uri": "https://localhost:8080/"
        },
        "id": "lkUGmrfkzwbD",
        "outputId": "6038c7bb-c7c2-44dc-d5bc-11c373e2c13a"
      },
      "execution_count": null,
      "outputs": [
        {
          "output_type": "stream",
          "name": "stdout",
          "text": [
            "ttest-statistic : 1.7938960492256657\n",
            "p-value : 0.07913000786288246\n",
            "\n",
            "Fail to reject H0\n"
          ]
        }
      ]
    },
    {
      "cell_type": "code",
      "source": [
        "import pandas as pd\n",
        "from scipy.stats import ttest_ind\n",
        "\n",
        "# Load the data from the CSV file\n",
        "data = pd.read_csv('/content/Pandas_Stats_Data_Analysis_2025/TwoGroupData_Base4Ttest_Independent.csv')\n",
        "\n",
        "# Filter operation on the DataFrame data to accesses the 'Group' column of the DataFrame, include only rows for Group 1\n",
        "#then extract the 'Values' column from those rows exclusively\n",
        "group1 = data[data['Group'] == 1]['Values']\n",
        "# The same applies to rows for Group 2 and their associated values.\n",
        "group2 = data[data['Group'] == 2]['Values']\n",
        "\n",
        "# Perform independent two-sample t-test\n",
        "t_statistic, p_value = ttest_ind(group1, group2)\n",
        "\n",
        "# Print the results\n",
        "print(\"Ho: There is no difference in academic achievements between hispanic and african-american in California.\")\n",
        "print(\"t-statistic:\", t_statistic)\n",
        "print(\"p-value:\", p_value)\n",
        "\n",
        "# Interpret the results\n",
        "alpha = 0.05\n",
        "if p_value < alpha:\n",
        "    print(\"Interpretation: Data between the two groups are NOT equal. (Reject Ho (p<0.05*))\")\n",
        "else:\n",
        "    print(\"Interpretation: Data between the two groups are equal. (Fail to reject Ho (p>0.05*))\")"
      ],
      "metadata": {
        "colab": {
          "base_uri": "https://localhost:8080/"
        },
        "id": "P4PEgwJmLJv5",
        "outputId": "8f912955-9582-4250-fc8a-38af97cd57e4"
      },
      "execution_count": null,
      "outputs": [
        {
          "output_type": "stream",
          "name": "stdout",
          "text": [
            "Ho: There is no difference in academic achievements between hispanic and african-american in California.\n",
            "t-statistic: 1.7938960492256657\n",
            "p-value: 0.07913000786288246\n",
            "Interpretation: Data between the two groups are equal. (Fail to reject Ho (p>0.05*))\n"
          ]
        }
      ]
    },
    {
      "cell_type": "markdown",
      "source": [
        "#### Before we proceed further...\n",
        "\n",
        "# 🚥 ⤵️ **U statistic**\n",
        "\n",
        "<Data>\n",
        "Group 1: [10, 20, 30, 40, 50]\n",
        "Group 2: [11, 22, 33, 44, 55]\n",
        "\n",
        "Step 1: Combine samples.\n",
        "    \n",
        "    Combined samples (sorted): [10, 11, 20, 22, 30, 33, 40, 44, 50, 55]\n",
        "\n",
        "Step 2: Assign ranks to each value.\n",
        "\n",
        "    10 gets rank 1\n",
        "    11 gets rank 2\n",
        "    20 gets rank 3\n",
        "    22 gets rank 4\n",
        "    30 gets rank 5\n",
        "    33 gets rank 6\n",
        "    40 gets rank 7\n",
        "    44 gets rank 8\n",
        "    50 gets rank 9\n",
        "    55 gets rank 10\n",
        "\n",
        "Step 4: Calculate the U statistic. Since we're comparing group 1 to group 2, let's focus on group 1's ranks:\n",
        "\n",
        "  - For each value in group 1, count how many values in group 2 it exceeds.\n",
        "  - Sum these counts to get the U statistic.\n",
        "\n",
        "For group 1:\n",
        "\n",
        "    10 exceeds 0 values in group 2.\n",
        "    20 exceeds 1 value in group 2.\n",
        "    30 exceeds 2 values in group 2.\n",
        "    40 exceeds 3 values in group 2.\n",
        "    50 exceeds 4 values in group 2.\n",
        "    \n",
        "    Summing these counts: 0 + 1 + 2 + 3 + 4 = 10\n",
        "    So, the U statistic for group 1 is 10.\n",
        "\n",
        "\n",
        "\n",
        "The degree of separation between the two groups in terms of U statistic represents how well the ranks of group 1 are separated from the ranks of group 2. In this case, the U statistic of 10 indicates that group 1 tends to have higher ranks compared to group 2, suggesting a higher distribution or larger values in group 1. 두 집단 간의 U 통계량(U statistic)은 집단 1의 순위가 집단 2의 순위와 얼마나 잘 분리되는지를 나타낸다. 이 경우, <font color = 'red'> U 통계량이 10이라는 것은 집단 1이 집단 2보다 상대적으로 더 높은 순위를 갖는 경향이 있음을 의미</font>하며, <font color = 'blue'>이는 집단 1의 분포가 더 높거나 값이 더 클 가능성을 시사한다."
      ],
      "metadata": {
        "id": "FwuhRKwifONT"
      }
    },
    {
      "cell_type": "markdown",
      "source": [
        "## 1️⃣-2️⃣ **Mann-Whitney U test**"
      ],
      "metadata": {
        "id": "-h0gYd-xg9pj"
      }
    },
    {
      "cell_type": "code",
      "source": [
        "import pandas as pd\n",
        "import numpy as np\n",
        "from scipy.stats import mannwhitneyu"
      ],
      "metadata": {
        "id": "SzYDMQ3J1DUQ"
      },
      "execution_count": null,
      "outputs": []
    },
    {
      "cell_type": "code",
      "source": [
        "data = pd.read_csv('/content/Pandas_Stats_Data_Analysis_2025/TwoGroupData_Base4MannWhitneyUtest_Independent.csv')\n",
        "\n",
        "group1 = data[data['Group'] == 1]['Values']\n",
        "group2 = data[data['Group'] == 2]['Values']"
      ],
      "metadata": {
        "id": "ubW9mxjM1NM6"
      },
      "execution_count": null,
      "outputs": []
    },
    {
      "cell_type": "code",
      "source": [
        "# alternative : 대립가설의 종류를 정한다. 'two-sided' = 양측 대립가설, ‘less’= 좌측 단측 대립가설,‘greater’= 우측 단측 대립가설\n",
        "U_statistic, U_p_value = mannwhitneyu(group1, group2, alternative='two-sided')\n",
        "\n",
        "n1 = len(group1)\n",
        "n2 = len(group2)\n",
        "print(n1, n2)"
      ],
      "metadata": {
        "colab": {
          "base_uri": "https://localhost:8080/"
        },
        "id": "97EV9b-oMKQO",
        "outputId": "05fa46aa-f92f-45df-a71e-ec4185c844df"
      },
      "execution_count": null,
      "outputs": [
        {
          "output_type": "stream",
          "name": "stdout",
          "text": [
            "25 25\n"
          ]
        }
      ]
    },
    {
      "cell_type": "code",
      "source": [
        "mu_U = n1 * n2 / 2\n",
        "sigma_U = np.sqrt(n1 * n2 * (n1 + n2 +1) / 12)\n",
        "z = (U_statistic - mu_U) / sigma_U\n",
        "\n",
        "print (\"Ho: There is no difference in academic achievements between hispanic and african-american in California.\")\n",
        "print(\"Mann-Whitney U:\", U_statistic)\n",
        "print(\"p-value:\", p_value)\n",
        "print(\"z-score:\", z)"
      ],
      "metadata": {
        "colab": {
          "base_uri": "https://localhost:8080/"
        },
        "id": "cpueePIGMq1c",
        "outputId": "b2b42201-2456-4c9c-93b9-14037ed39543"
      },
      "execution_count": null,
      "outputs": [
        {
          "output_type": "stream",
          "name": "stdout",
          "text": [
            "Ho: There is no difference in academic achievements between hispanic and african-american in California.\n",
            "Mann-Whitney U: 381.0\n",
            "p-value: 0.18703749337591546\n",
            "z-score: 1.3290952251991046\n"
          ]
        }
      ]
    },
    {
      "cell_type": "code",
      "source": [
        "alpha = 0.05\n",
        "\n",
        "if p_value < alpha:\n",
        "    print(\"Interpretation: Data between the two groups are NOT equal. (Reject Ho (p<0.05*))\")\n",
        "else:\n",
        "    print(\"Interpretation: Data between the two groups are equal. (Fail to reject Ho (p>0.05*))\")"
      ],
      "metadata": {
        "colab": {
          "base_uri": "https://localhost:8080/"
        },
        "id": "XVDN6izFOTau",
        "outputId": "eb13d477-670e-4b52-f3e0-62ad2d2c5056"
      },
      "execution_count": null,
      "outputs": [
        {
          "output_type": "stream",
          "name": "stdout",
          "text": [
            "Interpretation: Data between the two groups are equal. (Fail to reject Ho (p>0.05*))\n"
          ]
        }
      ]
    },
    {
      "cell_type": "code",
      "source": [
        "import pandas as pd\n",
        "from scipy.stats import mannwhitneyu\n",
        "import numpy as np\n",
        "\n",
        "# Load the data from the CSV file\n",
        "data = pd.read_csv('/content/Pandas_Stats_Data_Analysis_2025/TwoGroupData_Base4MannWhitneyUtest_Independent.csv')\n",
        "\n",
        "# 'group1' and 'group2' are the columns containing the two groups of data\n",
        "# Extract the measurements for each group\n",
        "group1 = data[data['Group'] == 1]['Values']\n",
        "group2 = data[data['Group'] == 2]['Values']\n",
        "\n",
        "# Using the mannwhitneyu function from the scipy.stats module,\n",
        "#it takes two groups of data (group1 and group2) as input and\n",
        "#performs a two-sided test (i.e., tests whether the distributions of the two groups are different).\n",
        "U_statistic, p_value = mannwhitneyu(group1, group2, alternative='two-sided')\n",
        "\n",
        "# Calculate mean and standard deviation for U\n",
        "n1 = len(group1) #len() calculates the number of observations in group1\n",
        "n2 = len(group2)\n",
        "# Calculate the mean of the U statistic under the null hypothesis of no difference between the two groups.\n",
        "#It's calculated as the product of the sample sizes divided by 2.\n",
        "mu_U = n1 * n2 / 2\n",
        "# Calculates the standard deviation of the U statistic under the null hypothesis.\n",
        "#It's calculated using the formula for the standard deviation of the sum of ranks(순위합계) in the Mann-Whitney U test.\n",
        "sigma_U = np.sqrt(n1 * n2 * (n1 + n2 + 1) / 12) #constant 12 for the denominator\n",
        "\n",
        "# Calculate z-score\n",
        "# measures the number of standard deviations away from the mean that the observed U statistic is.\n",
        "#It's calculated as the difference between the observed U statistic and\n",
        "#the expected mean U statistic under the null hypothesis, divided by the standard deviation of U.\n",
        "z = (U_statistic - mu_U) / sigma_U\n",
        "\n",
        "# Print the results\n",
        "print (\"Ho: There is no difference in academic achievements between hispanic and african-american in California.\")\n",
        "print(\"Mann-Whitney U:\", U_statistic)\n",
        "print(\"p-value:\", p_value)\n",
        "print(\"z-score:\", z)\n",
        "\n",
        "# Interpret the results\n",
        "alpha = 0.05\n",
        "if p_value < alpha:\n",
        "    print(\"Interpretation: Data between the two groups are NOT equal. (Reject Ho (p<0.05*))\")\n",
        "else:\n",
        "    print(\"Interpretation: Data between the two groups are equal. (Fail to reject Ho (p>0.05*))\")"
      ],
      "metadata": {
        "colab": {
          "base_uri": "https://localhost:8080/"
        },
        "id": "ichtz8-FmgMF",
        "outputId": "7bf6379a-82f9-4fa0-8f8d-38ed75c043e4"
      },
      "execution_count": null,
      "outputs": [
        {
          "output_type": "stream",
          "name": "stdout",
          "text": [
            "Ho: There is no difference in academic achievements between hispanic and african-american in California.\n",
            "Mann-Whitney U: 381.0\n",
            "p-value: 0.18703749337591546\n",
            "z-score: 1.3290952251991046\n",
            "Interpretation: Data between the two groups are equal. (Fail to reject Ho (p>0.05*))\n"
          ]
        }
      ]
    },
    {
      "cell_type": "markdown",
      "source": [
        "#<font color = 'red'>**2️⃣ Pair-wise comparisons</font>** when samples are related (e.g., two measurements from the same group of participants).\n",
        "- **<font color = 'brown'>Paired samples t-test**</font> which satisfies normality\n",
        "- **<font color = 'brown'>Wilcoxon Signed Rank test**</font>(윌콕슨부호순위검정) which _fails to_ satisfy normality\n"
      ],
      "metadata": {
        "id": "1G3jQ8fpP-Dm"
      }
    },
    {
      "cell_type": "markdown",
      "source": [
        "#🚥 ⤵️ <font color = 'purple'> **f-string** (formatted string literal) in Python\n",
        "    Conciseness: They provide a shorter syntax compared to other **string formatting methods like % formatting** or the **str.format() method**.\n",
        "\n",
        "- **f-strings** allow you <font color = 'red'>_to embed expressions inside a string_</font> by prefixing the string with the letter f or F (e.g., f{}).\n",
        "- **f{t_statistic}**: Inside the f-string, this is a **_placeholder_** for the variable t_statistic. The value of t_statistic(t 통계값) will be converted to a string and inserted into the larger string at this position.\n",
        "- **f{p_value_ttest}**: This is a **_placeholder_** for the variable p_value_ttest. Its value will be evaluated and inserted into the string.\n"
      ],
      "metadata": {
        "id": "l13_GATshhFN"
      }
    },
    {
      "cell_type": "code",
      "source": [
        "import pandas as pd\n",
        "import numpy as np\n",
        "import seaborn as sns\n",
        "import matplotlib.pyplot as plt\n",
        "from scipy.stats import ttest_rel, wilcoxon"
      ],
      "metadata": {
        "id": "kDmh1-ZR4q5b"
      },
      "execution_count": null,
      "outputs": []
    },
    {
      "cell_type": "code",
      "source": [
        "group1 = np.array([85, 86, 88, 75, 78, 94, 90, 83, 88, 77])\n",
        "group2 = np.array([87, 89, 91, 80, 80, 95, 92, 85, 89, 79])\n",
        "\n",
        "data = pd.DataFrame({'Before_t' : group1,\n",
        "                     'After_t' : group2})\n",
        "\n",
        "data.head()"
      ],
      "metadata": {
        "colab": {
          "base_uri": "https://localhost:8080/",
          "height": 206
        },
        "id": "wbGKdH1P4_Iw",
        "outputId": "1fc27785-6242-4374-bf5b-5b8fccf52d03"
      },
      "execution_count": null,
      "outputs": [
        {
          "output_type": "execute_result",
          "data": {
            "text/plain": [
              "   Before_t  After_t\n",
              "0        85       87\n",
              "1        86       89\n",
              "2        88       91\n",
              "3        75       80\n",
              "4        78       80"
            ],
            "text/html": [
              "\n",
              "  <div id=\"df-3182c223-f5a6-4401-a695-801ac089ca37\" class=\"colab-df-container\">\n",
              "    <div>\n",
              "<style scoped>\n",
              "    .dataframe tbody tr th:only-of-type {\n",
              "        vertical-align: middle;\n",
              "    }\n",
              "\n",
              "    .dataframe tbody tr th {\n",
              "        vertical-align: top;\n",
              "    }\n",
              "\n",
              "    .dataframe thead th {\n",
              "        text-align: right;\n",
              "    }\n",
              "</style>\n",
              "<table border=\"1\" class=\"dataframe\">\n",
              "  <thead>\n",
              "    <tr style=\"text-align: right;\">\n",
              "      <th></th>\n",
              "      <th>Before_t</th>\n",
              "      <th>After_t</th>\n",
              "    </tr>\n",
              "  </thead>\n",
              "  <tbody>\n",
              "    <tr>\n",
              "      <th>0</th>\n",
              "      <td>85</td>\n",
              "      <td>87</td>\n",
              "    </tr>\n",
              "    <tr>\n",
              "      <th>1</th>\n",
              "      <td>86</td>\n",
              "      <td>89</td>\n",
              "    </tr>\n",
              "    <tr>\n",
              "      <th>2</th>\n",
              "      <td>88</td>\n",
              "      <td>91</td>\n",
              "    </tr>\n",
              "    <tr>\n",
              "      <th>3</th>\n",
              "      <td>75</td>\n",
              "      <td>80</td>\n",
              "    </tr>\n",
              "    <tr>\n",
              "      <th>4</th>\n",
              "      <td>78</td>\n",
              "      <td>80</td>\n",
              "    </tr>\n",
              "  </tbody>\n",
              "</table>\n",
              "</div>\n",
              "    <div class=\"colab-df-buttons\">\n",
              "\n",
              "  <div class=\"colab-df-container\">\n",
              "    <button class=\"colab-df-convert\" onclick=\"convertToInteractive('df-3182c223-f5a6-4401-a695-801ac089ca37')\"\n",
              "            title=\"Convert this dataframe to an interactive table.\"\n",
              "            style=\"display:none;\">\n",
              "\n",
              "  <svg xmlns=\"http://www.w3.org/2000/svg\" height=\"24px\" viewBox=\"0 -960 960 960\">\n",
              "    <path d=\"M120-120v-720h720v720H120Zm60-500h600v-160H180v160Zm220 220h160v-160H400v160Zm0 220h160v-160H400v160ZM180-400h160v-160H180v160Zm440 0h160v-160H620v160ZM180-180h160v-160H180v160Zm440 0h160v-160H620v160Z\"/>\n",
              "  </svg>\n",
              "    </button>\n",
              "\n",
              "  <style>\n",
              "    .colab-df-container {\n",
              "      display:flex;\n",
              "      gap: 12px;\n",
              "    }\n",
              "\n",
              "    .colab-df-convert {\n",
              "      background-color: #E8F0FE;\n",
              "      border: none;\n",
              "      border-radius: 50%;\n",
              "      cursor: pointer;\n",
              "      display: none;\n",
              "      fill: #1967D2;\n",
              "      height: 32px;\n",
              "      padding: 0 0 0 0;\n",
              "      width: 32px;\n",
              "    }\n",
              "\n",
              "    .colab-df-convert:hover {\n",
              "      background-color: #E2EBFA;\n",
              "      box-shadow: 0px 1px 2px rgba(60, 64, 67, 0.3), 0px 1px 3px 1px rgba(60, 64, 67, 0.15);\n",
              "      fill: #174EA6;\n",
              "    }\n",
              "\n",
              "    .colab-df-buttons div {\n",
              "      margin-bottom: 4px;\n",
              "    }\n",
              "\n",
              "    [theme=dark] .colab-df-convert {\n",
              "      background-color: #3B4455;\n",
              "      fill: #D2E3FC;\n",
              "    }\n",
              "\n",
              "    [theme=dark] .colab-df-convert:hover {\n",
              "      background-color: #434B5C;\n",
              "      box-shadow: 0px 1px 3px 1px rgba(0, 0, 0, 0.15);\n",
              "      filter: drop-shadow(0px 1px 2px rgba(0, 0, 0, 0.3));\n",
              "      fill: #FFFFFF;\n",
              "    }\n",
              "  </style>\n",
              "\n",
              "    <script>\n",
              "      const buttonEl =\n",
              "        document.querySelector('#df-3182c223-f5a6-4401-a695-801ac089ca37 button.colab-df-convert');\n",
              "      buttonEl.style.display =\n",
              "        google.colab.kernel.accessAllowed ? 'block' : 'none';\n",
              "\n",
              "      async function convertToInteractive(key) {\n",
              "        const element = document.querySelector('#df-3182c223-f5a6-4401-a695-801ac089ca37');\n",
              "        const dataTable =\n",
              "          await google.colab.kernel.invokeFunction('convertToInteractive',\n",
              "                                                    [key], {});\n",
              "        if (!dataTable) return;\n",
              "\n",
              "        const docLinkHtml = 'Like what you see? Visit the ' +\n",
              "          '<a target=\"_blank\" href=https://colab.research.google.com/notebooks/data_table.ipynb>data table notebook</a>'\n",
              "          + ' to learn more about interactive tables.';\n",
              "        element.innerHTML = '';\n",
              "        dataTable['output_type'] = 'display_data';\n",
              "        await google.colab.output.renderOutput(dataTable, element);\n",
              "        const docLink = document.createElement('div');\n",
              "        docLink.innerHTML = docLinkHtml;\n",
              "        element.appendChild(docLink);\n",
              "      }\n",
              "    </script>\n",
              "  </div>\n",
              "\n",
              "\n",
              "    <div id=\"df-4672d831-a472-4a63-811f-519273466734\">\n",
              "      <button class=\"colab-df-quickchart\" onclick=\"quickchart('df-4672d831-a472-4a63-811f-519273466734')\"\n",
              "                title=\"Suggest charts\"\n",
              "                style=\"display:none;\">\n",
              "\n",
              "<svg xmlns=\"http://www.w3.org/2000/svg\" height=\"24px\"viewBox=\"0 0 24 24\"\n",
              "     width=\"24px\">\n",
              "    <g>\n",
              "        <path d=\"M19 3H5c-1.1 0-2 .9-2 2v14c0 1.1.9 2 2 2h14c1.1 0 2-.9 2-2V5c0-1.1-.9-2-2-2zM9 17H7v-7h2v7zm4 0h-2V7h2v10zm4 0h-2v-4h2v4z\"/>\n",
              "    </g>\n",
              "</svg>\n",
              "      </button>\n",
              "\n",
              "<style>\n",
              "  .colab-df-quickchart {\n",
              "      --bg-color: #E8F0FE;\n",
              "      --fill-color: #1967D2;\n",
              "      --hover-bg-color: #E2EBFA;\n",
              "      --hover-fill-color: #174EA6;\n",
              "      --disabled-fill-color: #AAA;\n",
              "      --disabled-bg-color: #DDD;\n",
              "  }\n",
              "\n",
              "  [theme=dark] .colab-df-quickchart {\n",
              "      --bg-color: #3B4455;\n",
              "      --fill-color: #D2E3FC;\n",
              "      --hover-bg-color: #434B5C;\n",
              "      --hover-fill-color: #FFFFFF;\n",
              "      --disabled-bg-color: #3B4455;\n",
              "      --disabled-fill-color: #666;\n",
              "  }\n",
              "\n",
              "  .colab-df-quickchart {\n",
              "    background-color: var(--bg-color);\n",
              "    border: none;\n",
              "    border-radius: 50%;\n",
              "    cursor: pointer;\n",
              "    display: none;\n",
              "    fill: var(--fill-color);\n",
              "    height: 32px;\n",
              "    padding: 0;\n",
              "    width: 32px;\n",
              "  }\n",
              "\n",
              "  .colab-df-quickchart:hover {\n",
              "    background-color: var(--hover-bg-color);\n",
              "    box-shadow: 0 1px 2px rgba(60, 64, 67, 0.3), 0 1px 3px 1px rgba(60, 64, 67, 0.15);\n",
              "    fill: var(--button-hover-fill-color);\n",
              "  }\n",
              "\n",
              "  .colab-df-quickchart-complete:disabled,\n",
              "  .colab-df-quickchart-complete:disabled:hover {\n",
              "    background-color: var(--disabled-bg-color);\n",
              "    fill: var(--disabled-fill-color);\n",
              "    box-shadow: none;\n",
              "  }\n",
              "\n",
              "  .colab-df-spinner {\n",
              "    border: 2px solid var(--fill-color);\n",
              "    border-color: transparent;\n",
              "    border-bottom-color: var(--fill-color);\n",
              "    animation:\n",
              "      spin 1s steps(1) infinite;\n",
              "  }\n",
              "\n",
              "  @keyframes spin {\n",
              "    0% {\n",
              "      border-color: transparent;\n",
              "      border-bottom-color: var(--fill-color);\n",
              "      border-left-color: var(--fill-color);\n",
              "    }\n",
              "    20% {\n",
              "      border-color: transparent;\n",
              "      border-left-color: var(--fill-color);\n",
              "      border-top-color: var(--fill-color);\n",
              "    }\n",
              "    30% {\n",
              "      border-color: transparent;\n",
              "      border-left-color: var(--fill-color);\n",
              "      border-top-color: var(--fill-color);\n",
              "      border-right-color: var(--fill-color);\n",
              "    }\n",
              "    40% {\n",
              "      border-color: transparent;\n",
              "      border-right-color: var(--fill-color);\n",
              "      border-top-color: var(--fill-color);\n",
              "    }\n",
              "    60% {\n",
              "      border-color: transparent;\n",
              "      border-right-color: var(--fill-color);\n",
              "    }\n",
              "    80% {\n",
              "      border-color: transparent;\n",
              "      border-right-color: var(--fill-color);\n",
              "      border-bottom-color: var(--fill-color);\n",
              "    }\n",
              "    90% {\n",
              "      border-color: transparent;\n",
              "      border-bottom-color: var(--fill-color);\n",
              "    }\n",
              "  }\n",
              "</style>\n",
              "\n",
              "      <script>\n",
              "        async function quickchart(key) {\n",
              "          const quickchartButtonEl =\n",
              "            document.querySelector('#' + key + ' button');\n",
              "          quickchartButtonEl.disabled = true;  // To prevent multiple clicks.\n",
              "          quickchartButtonEl.classList.add('colab-df-spinner');\n",
              "          try {\n",
              "            const charts = await google.colab.kernel.invokeFunction(\n",
              "                'suggestCharts', [key], {});\n",
              "          } catch (error) {\n",
              "            console.error('Error during call to suggestCharts:', error);\n",
              "          }\n",
              "          quickchartButtonEl.classList.remove('colab-df-spinner');\n",
              "          quickchartButtonEl.classList.add('colab-df-quickchart-complete');\n",
              "        }\n",
              "        (() => {\n",
              "          let quickchartButtonEl =\n",
              "            document.querySelector('#df-4672d831-a472-4a63-811f-519273466734 button');\n",
              "          quickchartButtonEl.style.display =\n",
              "            google.colab.kernel.accessAllowed ? 'block' : 'none';\n",
              "        })();\n",
              "      </script>\n",
              "    </div>\n",
              "\n",
              "    </div>\n",
              "  </div>\n"
            ],
            "application/vnd.google.colaboratory.intrinsic+json": {
              "type": "dataframe",
              "variable_name": "data",
              "summary": "{\n  \"name\": \"data\",\n  \"rows\": 10,\n  \"fields\": [\n    {\n      \"column\": \"Before_t\",\n      \"properties\": {\n        \"dtype\": \"number\",\n        \"std\": 6,\n        \"min\": 75,\n        \"max\": 94,\n        \"num_unique_values\": 9,\n        \"samples\": [\n          83,\n          86,\n          94\n        ],\n        \"semantic_type\": \"\",\n        \"description\": \"\"\n      }\n    },\n    {\n      \"column\": \"After_t\",\n      \"properties\": {\n        \"dtype\": \"number\",\n        \"std\": 5,\n        \"min\": 79,\n        \"max\": 95,\n        \"num_unique_values\": 8,\n        \"samples\": [\n          89,\n          92,\n          87\n        ],\n        \"semantic_type\": \"\",\n        \"description\": \"\"\n      }\n    }\n  ]\n}"
            }
          },
          "metadata": {},
          "execution_count": 35
        }
      ]
    },
    {
      "cell_type": "code",
      "source": [
        "t_statistic, p_value_ttest = ttest_rel(data['Before_t'], data['After_t'])\n",
        "\n",
        "print (\"Ho: Students' achievements before and after the online tutorial are equal.\")\n",
        "print(f\"Paired t-test results:\")\n",
        "print(\"\\n\", f\"t-statistic: {t_statistic}\")\n",
        "print()\n",
        "print(\"For your information:\")\n",
        "print(\"1. t < 0 indicates the mean of Group1 is less than Group2.\")\n",
        "print(\"2. t > 0 indicates the mean of Group1 is greater than Group2.\")\n",
        "print(\"\\n\", f\"p-value: {p_value_ttest}\")"
      ],
      "metadata": {
        "colab": {
          "base_uri": "https://localhost:8080/"
        },
        "id": "abcRcu7RPk68",
        "outputId": "21d8c276-3c94-4bfa-bdf0-5c01af6662e5"
      },
      "execution_count": null,
      "outputs": [
        {
          "output_type": "stream",
          "name": "stdout",
          "text": [
            "Ho: Students' achievements before and after the online tutorial are equal.\n",
            "Paired t-test results:\n",
            "\n",
            " t-statistic: -6.272727272727272\n",
            "\n",
            "For your information:\n",
            "1. t < 0 indicates the mean of Group1 is less than Group2.\n",
            "2. t > 0 indicates the mean of Group1 is greater than Group2.\n",
            "\n",
            " p-value: 0.00014563278012850932\n"
          ]
        }
      ]
    },
    {
      "cell_type": "code",
      "source": [
        "alpha = 0.05\n",
        "if p_value_ttest < alpha:\n",
        "    print(\"Interpretation: Students' achievements before and after the online tutorial are NOT equal. (Reject Ho (p<0.05*))\")\n",
        "else:\n",
        "    print(\"Interpretation: Students' achievements before and after the online tutorial are equal (Fail to reject Ho (p>0.05*))\")"
      ],
      "metadata": {
        "colab": {
          "base_uri": "https://localhost:8080/"
        },
        "id": "IQy8q-IGQeeE",
        "outputId": "d32e9d41-15f4-4512-e001-98afbdec4a20"
      },
      "execution_count": null,
      "outputs": [
        {
          "output_type": "stream",
          "name": "stdout",
          "text": [
            "Interpretation: Students' achievements before and after the online tutorial are NOT equal. (Reject Ho (p<0.05*))\n"
          ]
        }
      ]
    },
    {
      "cell_type": "code",
      "source": [
        "plt.figure(figsize=(10,6))\n",
        "sns.histplot(data['Before_t'], kde = True, color = 'skyblue', label = 'Before', stat = 'density')\n",
        "sns.histplot(data['After_t'], kde = True, color = 'orange', label = 'After', stat = 'density')\n",
        "plt.xlabel('Scores')\n",
        "plt.ylabel('Density')\n",
        "plt.title('Histogram of Test Scores Before and After Program')\n",
        "plt.legend()\n",
        "plt.show()"
      ],
      "metadata": {
        "colab": {
          "base_uri": "https://localhost:8080/",
          "height": 553
        },
        "id": "m9HOxNAjQq4l",
        "outputId": "01925192-3075-40a5-fef0-b670e643bdd7"
      },
      "execution_count": null,
      "outputs": [
        {
          "output_type": "display_data",
          "data": {
            "text/plain": [
              "<Figure size 1000x600 with 1 Axes>"
            ],
            "image/png": "[encoded data removed]"
          },
          "metadata": {}
        }
      ]
    },
    {
      "cell_type": "code",
      "source": [
        "import numpy as np\n",
        "import pandas as pd\n",
        "from scipy.stats import ttest_rel, wilcoxon #Paired comparisons of one group with related samples (cf., Independent samples from different groups)\n",
        "import matplotlib.pyplot as plt\n",
        "import seaborn as sns\n",
        "\n",
        "# Example data: test scores of students before and after the program\n",
        "group1 = np.array([85, 86, 88, 75, 78, 94, 90, 83, 88, 77])\n",
        "group2 = np.array([87, 89, 91, 80, 80, 95, 92, 85, 89, 79])\n",
        "\n",
        "# Convert the data to a pandas DataFrame 🚩 making a dictionary {key:value}\n",
        "data = pd.DataFrame({\n",
        "    'Before_t': group1,\n",
        "    'After_t': group2\n",
        "})\n",
        "\n",
        "print (data)\n",
        "print ('\\n')\n",
        "\n",
        "# Perform a paired t-test\n",
        "t_statistic, p_value_ttest = ttest_rel(data['Before_t'], data['After_t'])\n",
        "\n",
        "# Print the results of the paired t-test using f-strings ⤴️\n",
        "print (\"Ho: Students' achievements before and after the online tutorial are equal.\")\n",
        "print(\"Paired t-test results:\")\n",
        "print(\"\\n\", f\"t-statistic: {t_statistic}\") # f-string (formatted string literal) in Python.\n",
        "\n",
        "print(\"For your information:\")\n",
        "print(\"1. t < 0 indicates the mean of Group1 is less than Group2.\")\n",
        "print(\"2. t > 0 indicates the mean of Group1 is greater than Group2.\")\n",
        "print(\"\\n\", f\"p-value: {p_value_ttest}\")\n",
        "\n",
        "# Interpret the results of the paired t-test\n",
        "alpha = 0.05 #Critical test threshold\n",
        "if p_value_ttest < alpha:\n",
        "    print(\"Interpretation: Students' achievements before and after the online tutorial are NOT equal. (Reject Ho (p<0.05*))\")\n",
        "else:\n",
        "    print(\"Interpretation: Students' achievements before and after the online tutorial are equal (Fail to reject Ho (p>0.05*))\")\n",
        "\n",
        "print(\"\\n\")\n",
        "\n",
        "# Plot the before and after score\n",
        "plt.figure(figsize=(10, 6))\n",
        "sns.histplot(data['Before_t'], kde=True, color='blue', label='Before', stat='density')\n",
        "sns.histplot(data['After_t'], kde=True, color='orange', label='After', stat='density')\n",
        "plt.xlabel('Scores')\n",
        "plt.ylabel('Density')\n",
        "plt.title('Histogram of Test Scores Before and After Program')\n",
        "plt.legend()\n",
        "plt.show()"
      ],
      "metadata": {
        "colab": {
          "base_uri": "https://localhost:8080/",
          "height": 998
        },
        "id": "YBZWDDnBZOzz",
        "outputId": "82fb42c0-1557-4b2e-a1c6-49c5a6f72131"
      },
      "execution_count": null,
      "outputs": [
        {
          "output_type": "stream",
          "name": "stdout",
          "text": [
            "   Before_t  After_t\n",
            "0        85       87\n",
            "1        86       89\n",
            "2        88       91\n",
            "3        75       80\n",
            "4        78       80\n",
            "5        94       95\n",
            "6        90       92\n",
            "7        83       85\n",
            "8        88       89\n",
            "9        77       79\n",
            "\n",
            "\n",
            "Ho: Students' achievements before and after the online tutorial are equal.\n",
            "Paired t-test results:\n",
            "\n",
            " t-statistic: -6.272727272727272\n",
            "For your information:\n",
            "1. t < 0 indicates the mean of Group1 is less than Group2.\n",
            "2. t > 0 indicates the mean of Group1 is greater than Group2.\n",
            "\n",
            " p-value: 0.00014563278012850932\n",
            "Interpretation: Students' achievements before and after the online tutorial are NOT equal. (Reject Ho (p<0.05*))\n",
            "\n",
            "\n"
          ]
        },
        {
          "output_type": "display_data",
          "data": {
            "text/plain": [
              "<Figure size 1000x600 with 1 Axes>"
            ],
            "image/png": "[encoded data removed]"
          },
          "metadata": {}
        }
      ]
    },
    {
      "cell_type": "markdown",
      "source": [
        "## 🚥 ⤴️  A negative t-statistic in a paired t-test usually indicates that:\n",
        "\n",
        "- The second set of scores (after the tutorial) is higher than the first set (before the tutorial)."
      ],
      "metadata": {
        "id": "TnuReRYb4YWj"
      }
    },
    {
      "cell_type": "code",
      "source": [
        "import numpy as np\n",
        "import pandas as pd\n",
        "import matplotlib.pyplot as plt\n",
        "import seaborn as sns\n",
        "from scipy.stats import ttest_rel, wilcoxon"
      ],
      "metadata": {
        "id": "CP3-skWasrwr"
      },
      "execution_count": null,
      "outputs": []
    },
    {
      "cell_type": "code",
      "source": [
        "group3 = np.array([54.97, 48.62, 56.48, 65.23, 47.66, 47.66, 65.79, 55.31, 44.83, 54.83, 44.91, 64.0, 60.84, 46.92, 47.02, 59.47, 46.2, 65.87, 65.75, 48.84])\n",
        "group4 = np.array([57.97, 48.42, 56.18, 66.23, 49.46, 47.06, 70.29, 59.01, 46.53, 53.63, 45.01, 63.9, 60.64, 52.42, 43.92, 64.77, 50.9, 68.87, 65.95, 48.44])\n",
        "\n",
        "data = pd.DataFrame({'Before_w' : group3,\n",
        "                     'After_w' : group4})\n",
        "print(data.describe())"
      ],
      "metadata": {
        "colab": {
          "base_uri": "https://localhost:8080/"
        },
        "id": "RWzupPvpR-E4",
        "outputId": "f2345c64-fd4b-4585-9190-69037999d2ea"
      },
      "execution_count": null,
      "outputs": [
        {
          "output_type": "stream",
          "name": "stdout",
          "text": [
            "        Before_w    After_w\n",
            "count  20.000000  20.000000\n",
            "mean   54.560000  55.980000\n",
            "std     7.901939   8.539229\n",
            "min    44.830000  43.920000\n",
            "25%    47.500000  48.435000\n",
            "50%    54.900000  54.905000\n",
            "75%    61.630000  64.117500\n",
            "max    65.870000  70.290000\n"
          ]
        }
      ]
    },
    {
      "cell_type": "code",
      "source": [
        "w_statistic, p_value_wilcoxon = wilcoxon(data['Before_w'], data['After_w'])\n",
        "\n",
        "z_score_wilcoxon = w_statistic\n",
        "\n",
        "print(\"Wilcoxon signed-rank test results:\")\n",
        "print(\"\\n\", f\"z-score (for non-parametiric Wilcoxon statistic): {w_statistic}\")\n",
        "print(\"\\n\", f\"Test statistic: {w_statistic}\")\n",
        "print(\"\\n\", f\"p-value: {p_value_wilcoxon}\")"
      ],
      "metadata": {
        "colab": {
          "base_uri": "https://localhost:8080/"
        },
        "id": "_qhzl6f7ucnv",
        "outputId": "4dcb24f5-ee64-49b1-83f4-6e8709be67a5"
      },
      "execution_count": null,
      "outputs": [
        {
          "output_type": "stream",
          "name": "stdout",
          "text": [
            "Wilcoxon signed-rank test results:\n",
            "\n",
            " z-score (for non-parametiric Wilcoxon statistic): 55.0\n",
            "\n",
            " Test statistic: 55.0\n",
            "\n",
            " p-value: 0.06188462684524433\n"
          ]
        }
      ]
    },
    {
      "cell_type": "code",
      "source": [
        "alpha = 0.05\n",
        "\n",
        "if p_value_wilcoxon < alpha:\n",
        "    print(\"Interpretation: Students' academic achievements differ between pre-tutorial and post-tutorial scores. (Reject the null hypothesis (p<0.05*))\")\n",
        "else:\n",
        "    print(\"Students' academic achievements are similar between pre-tutorial and post-tutorial scores. (Fail to reject the null hypothesis (p>0.05))\")"
      ],
      "metadata": {
        "colab": {
          "base_uri": "https://localhost:8080/"
        },
        "id": "L3SEcxRyvkrM",
        "outputId": "0f9bfb54-c092-4dd4-beec-abbf3fa8108b"
      },
      "execution_count": null,
      "outputs": [
        {
          "output_type": "stream",
          "name": "stdout",
          "text": [
            "Students' academic achievements are similar between pre-tutorial and post-tutorial scores. (Fail to reject the null hypothesis (p>0.05))\n"
          ]
        }
      ]
    },
    {
      "cell_type": "code",
      "source": [
        "plt.figure(figsize = (10,6))\n",
        "sns.histplot(data['Before_w'], kde = True, color = 'brown', label = 'Before_p', stat = 'density')\n",
        "sns.histplot(data['After_w'], kde = True, color = '#005666', label = 'After_p', stat = 'density')\n",
        "plt.xlabel = ['Scores']\n",
        "plt.ylabel = 'Density'\n",
        "plt.title('Histogram of Test Scores Before and After Program')\n",
        "plt.legend()\n",
        "plt.show()"
      ],
      "metadata": {
        "colab": {
          "base_uri": "https://localhost:8080/",
          "height": 564
        },
        "id": "o7eGnvcs-7ls",
        "outputId": "2d0631b2-8da3-4d8b-95b8-3b877bd63461"
      },
      "execution_count": null,
      "outputs": [
        {
          "output_type": "display_data",
          "data": {
            "text/plain": [
              "<Figure size 1000x600 with 1 Axes>"
            ],
            "image/png": "[encoded data removed]"
          },
          "metadata": {}
        }
      ]
    },
    {
      "cell_type": "code",
      "source": [
        "import numpy as np\n",
        "import pandas as pd\n",
        "from scipy.stats import ttest_rel, wilcoxon #Paired comparisons of one group with related samples (cf., Independent samples from different groups)\n",
        "import matplotlib.pyplot as plt\n",
        "import seaborn as sns\n",
        "\n",
        "group3 = np.array([54.97, 48.62, 56.48, 65.23, 47.66, 47.66, 65.79, 55.31, 44.83, 54.83, 44.91, 64.0, 60.84, 46.92, 47.02, 59.47, 46.2, 65.87, 65.75, 48.84])\n",
        "group4 = np.array([57.97, 48.42, 56.18, 66.23, 49.46, 47.06, 70.29, 59.01, 46.53, 53.63, 45.01, 63.9, 60.64, 52.42, 43.92, 64.77, 50.9, 68.87, 65.95, 48.44])\n",
        "\n",
        "# Convert the data to a pandas DataFrame 🚩 making a dictionary {key:value}\n",
        "data = pd.DataFrame({\n",
        "    'Before_w': group3,\n",
        "    'After_w': group4\n",
        "})\n",
        "\n",
        "print (data)\n",
        "print ('\\n')\n",
        "\n",
        "# Perform Wilcoxon signed-rank test as a non-parametric alternative\n",
        "w_statistic, p_value_wilcoxon = wilcoxon(data['Before_w'], data['After_w'])\n",
        "\n",
        "# Calculate z-score (Wilcoxon signed-rank test already includes z-score in output)\n",
        "z_score_wilcoxon = w_statistic  # The w_statistic is effectively the z-score for Wilcoxon test\n",
        "\n",
        "# Print the results of the Wilcoxon signed-rank test using f-strings\n",
        "print(\"\\n\", \"Wilcoxon signed-rank test results:\")\n",
        "print(\"\\n\", f\"z-score (for non-parametiric Wilcoxon statistic): {w_statistic}\")\n",
        "print(\"\\n\", f\"Test statistic: {w_statistic}\")\n",
        "print(\"\\n\", f\"p-value: {p_value_wilcoxon}\")\n",
        "\n",
        "# CTT(Critical test threshold)\n",
        "alpha = 0.05\n",
        "\n",
        "# Interpret the results of the Wilcoxon signed-rank test\n",
        "if p_value_wilcoxon < alpha:\n",
        "    print(\"\\n\", \"Interpretation: Students' academic achievements differ between pre-tutorial and post-tutorial scores. (Reject the null hypothesis (p<0.05*))\")\n",
        "else:\n",
        "    print(\"\\n\", \"Students' academic achievements are similar between pre-tutorial and post-tutorial scores. (Fail to reject the null hypothesis (p>0.05))\")\n",
        "\n",
        "print(\"\\n\")\n",
        "\n",
        "# Plot the before and after scores\n",
        "plt.figure(figsize=(10, 6))\n",
        "sns.histplot(data['Before_w'], kde=True, color='blue', label='Pre', stat='density')\n",
        "sns.histplot(data['After_w'], kde=True, color='orange', label='Post', stat='density')\n",
        "plt.xlabel('Scores')\n",
        "plt.ylabel('Density')\n",
        "plt.title('Histogram of Test Scores Before and After Program')\n",
        "plt.legend()\n",
        "plt.show()"
      ],
      "metadata": {
        "colab": {
          "base_uri": "https://localhost:8080/",
          "height": 1000
        },
        "id": "S2aU-R1UrzTl",
        "outputId": "d4f74369-fb1e-4154-ab1a-bd42bb0ec8a8"
      },
      "execution_count": null,
      "outputs": [
        {
          "output_type": "stream",
          "name": "stdout",
          "text": [
            "    Before_w  After_w\n",
            "0      54.97    57.97\n",
            "1      48.62    48.42\n",
            "2      56.48    56.18\n",
            "3      65.23    66.23\n",
            "4      47.66    49.46\n",
            "5      47.66    47.06\n",
            "6      65.79    70.29\n",
            "7      55.31    59.01\n",
            "8      44.83    46.53\n",
            "9      54.83    53.63\n",
            "10     44.91    45.01\n",
            "11     64.00    63.90\n",
            "12     60.84    60.64\n",
            "13     46.92    52.42\n",
            "14     47.02    43.92\n",
            "15     59.47    64.77\n",
            "16     46.20    50.90\n",
            "17     65.87    68.87\n",
            "18     65.75    65.95\n",
            "19     48.84    48.44\n",
            "\n",
            "\n",
            "\n",
            " Wilcoxon signed-rank test results:\n",
            "\n",
            " z-score (for non-parametiric Wilcoxon statistic): 55.0\n",
            "\n",
            " Test statistic: 55.0\n",
            "\n",
            " p-value: 0.06188462684524433\n",
            "\n",
            " Students' academic achievements are similar between pre-tutorial and post-tutorial scores. (Fail to reject the null hypothesis (p>0.05))\n",
            "\n",
            "\n"
          ]
        },
        {
          "output_type": "display_data",
          "data": {
            "text/plain": [
              "<Figure size 1000x600 with 1 Axes>"
            ],
            "image/png": "[encoded data removed]"
          },
          "metadata": {}
        }
      ]
    }
  ]
}