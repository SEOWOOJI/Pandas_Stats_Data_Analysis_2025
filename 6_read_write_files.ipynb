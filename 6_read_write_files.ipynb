{
  "nbformat": 4,
  "nbformat_minor": 0,
  "metadata": {
    "colab": {
      "provenance": [],
      "include_colab_link": true
    },
    "kernelspec": {
      "name": "python3",
      "display_name": "Python 3"
    },
    "language_info": {
      "name": "python"
    }
  },
  "cells": [
    {
      "cell_type": "markdown",
      "metadata": {
        "id": "view-in-github",
        "colab_type": "text"
      },
      "source": [
        "<a href=\"https://colab.research.google.com/github/SEOWOOJI/Pandas_Stats_Data_Analysis_2025/blob/main/6_read_write_files.ipynb\" target=\"_parent\"><img src=\"https://colab.research.google.com/assets/colab-badge.svg\" alt=\"Open In Colab\"/></a>"
      ]
    },
    {
      "cell_type": "markdown",
      "source": [
        "###**Read files in various formats**\n",
        "\n",
        "- <font color = 'red'> read_FILEFORMAT()fuction\n",
        "  - csv\n",
        "  - json\n",
        "  - html\n",
        "  - clipboard\n",
        "  - excel\n",
        "  - hdf\n",
        "  - sql\n",
        "\n",
        "###**Write files in various formats**\n",
        "- <font color = 'blue'> 00.to_FILEFORMAT(\"\")method\n",
        "  - csv\n",
        "  - json\n",
        "  - html\n",
        "  - clipboard\n",
        "  - excel\n",
        "  - hdf\n",
        "  - sql\n",
        "\n",
        "pp.058-062 (cf., 옵션 설명 표는 책 참조)\n",
        "\n",
        "[공공데이터포털](https://www.data.go.kr/)\n",
        "- csv, xlxs 등의 자료를 다운로드 받을 수 있는 대한민국 공식 전자정부 누리집\n",
        "\n"
      ],
      "metadata": {
        "id": "IQnkvIIkTKAI"
      }
    },
    {
      "cell_type": "markdown",
      "source": [
        "# 1️⃣ 🐹🐾 **Cloning github repository**"
      ],
      "metadata": {
        "id": "UFWA72mkIjYf"
      }
    },
    {
      "cell_type": "code",
      "source": [
        "!git clone 'https://github.com/ms624atyale/Pandas_Stats_Data_Analysis_2025'"
      ],
      "metadata": {
        "colab": {
          "base_uri": "https://localhost:8080/"
        },
        "id": "5FNNOx6-IQvp",
        "outputId": "552cf348-56c0-4e51-9dfd-61bc436213b9"
      },
      "execution_count": null,
      "outputs": [
        {
          "output_type": "stream",
          "name": "stdout",
          "text": [
            "Cloning into 'Pandas_Stats_Data_Analysis_2025'...\n",
            "remote: Enumerating objects: 387, done.\u001b[K\n",
            "remote: Counting objects: 100% (247/247), done.\u001b[K\n",
            "remote: Compressing objects: 100% (192/192), done.\u001b[K\n",
            "remote: Total 387 (delta 126), reused 110 (delta 53), pack-reused 140 (from 1)\u001b[K\n",
            "Receiving objects: 100% (387/387), 3.26 MiB | 9.48 MiB/s, done.\n",
            "Resolving deltas: 100% (209/209), done.\n"
          ]
        }
      ]
    },
    {
      "cell_type": "markdown",
      "source": [
        "#🐹🐾**Reading data**"
      ],
      "metadata": {
        "id": "2yyw90n86PL4"
      }
    },
    {
      "cell_type": "markdown",
      "source": [
        "###**<font color = 'red'> 🐹🐾 Read the csv format**"
      ],
      "metadata": {
        "id": "laF0M7SpLCfz"
      }
    },
    {
      "cell_type": "code",
      "source": [
        "import pandas as pd"
      ],
      "metadata": {
        "id": "M8o_LCQKacWk"
      },
      "execution_count": null,
      "outputs": []
    },
    {
      "cell_type": "code",
      "source": [
        "file = '/content/Pandas_Stats_Data_Analysis_2025/sample.csv'\n",
        "\n",
        "df1 = pd.read_csv(file, encoding='UTF-8')\n",
        "print(df1)\n",
        "print()"
      ],
      "metadata": {
        "colab": {
          "base_uri": "https://localhost:8080/"
        },
        "id": "-owPdZ9Caft8",
        "outputId": "6209014e-3ccc-4982-96b6-595d28371c4e"
      },
      "execution_count": null,
      "outputs": [
        {
          "output_type": "stream",
          "name": "stdout",
          "text": [
            "   test1  test2  test3\n",
            "0      1      4      7\n",
            "1      2      5      8\n",
            "2      3      6      9\n",
            "\n"
          ]
        }
      ]
    },
    {
      "cell_type": "code",
      "source": [
        "# csv (comma separated values) format\n",
        "\n",
        "import pandas as pd\n",
        "\n",
        "#file directory\n",
        "file = \"/content/Pandas_Stats_Data_Analysis_2025/sample.csv\"\n",
        "\n",
        "#read_csv() function을 사용하여 데이터프레임 변환\n",
        "df1 = pd.read_csv(file)\n",
        "print(df1)\n",
        "print('\\n')"
      ],
      "metadata": {
        "colab": {
          "base_uri": "https://localhost:8080/"
        },
        "id": "pq2pkeHvTJfD",
        "outputId": "d95570a4-95d5-4117-87f6-39489db3968a"
      },
      "execution_count": null,
      "outputs": [
        {
          "output_type": "stream",
          "name": "stdout",
          "text": [
            "   test1  test2  test3\n",
            "0      1      4      7\n",
            "1      2      5      8\n",
            "2      3      6      9\n",
            "\n",
            "\n"
          ]
        }
      ]
    },
    {
      "cell_type": "markdown",
      "source": [
        "###**<font color = 'red'> 🐹🐾 Read the excel format**\n",
        "- use element (engine = 'openpyxl') for .xlsx\n",
        "- use element (engine = 'xlrd') for .xlsx"
      ],
      "metadata": {
        "id": "nuR9zbudLZS5"
      }
    },
    {
      "cell_type": "code",
      "source": [
        "import pandas as pd"
      ],
      "metadata": {
        "id": "L8I5U2NccnLN"
      },
      "execution_count": null,
      "outputs": []
    },
    {
      "cell_type": "code",
      "source": [
        "df1 = pd.read_excel('/content/Pandas_Stats_Data_Analysis_2025/남북한발전전력량.xlsx', sheet_name=0, engine='openpyxl')\n",
        "df2 = pd.read_excel('/content/Pandas_Stats_Data_Analysis_2025/남북한발전전력량.xlsx', sheet_name=0, engine='openpyxl', header=None)\n",
        "print(df1)\n",
        "print('\\n')\n",
        "print(df2)"
      ],
      "metadata": {
        "colab": {
          "base_uri": "https://localhost:8080/"
        },
        "id": "BRms8Mm-crMU",
        "outputId": "80377e0c-4bfd-47a2-9634-97554cac601b"
      },
      "execution_count": null,
      "outputs": [
        {
          "output_type": "stream",
          "name": "stdout",
          "text": [
            "  전력량 (억㎾h) 발전 전력별  1990  1991  1992  1993  1994  1995  1996  1997  ...  2007  \\\n",
            "0        남한     합계  1077  1186  1310  1444  1650  1847  2055  2244  ...  4031   \n",
            "1       NaN     수력    64    51    49    60    41    55    52    54  ...    50   \n",
            "2       NaN     화력   484   573   696   803  1022  1122  1264  1420  ...  2551   \n",
            "3       NaN    원자력   529   563   565   581   587   670   739   771  ...  1429   \n",
            "4       NaN    신재생     -     -     -     -     -     -     -     -  ...     -   \n",
            "5        북한     합계   277   263   247   221   231   230   213   193  ...   236   \n",
            "6       NaN     수력   156   150   142   133   138   142   125   107  ...   133   \n",
            "7       NaN     화력   121   113   105    88    93    88    88    86  ...   103   \n",
            "8       NaN    원자력     -     -     -     -     -     -     -     -  ...     -   \n",
            "\n",
            "   2008  2009  2010  2011  2012  2013  2014  2015  2016  \n",
            "0  4224  4336  4747  4969  5096  5171  5220  5281  5404  \n",
            "1    56    56    65    78    77    84    78    58    66  \n",
            "2  2658  2802  3196  3343  3430  3581  3427  3402  3523  \n",
            "3  1510  1478  1486  1547  1503  1388  1564  1648  1620  \n",
            "4     -     -     -     -    86   118   151   173   195  \n",
            "5   255   235   237   211   215   221   216   190   239  \n",
            "6   141   125   134   132   135   139   130   100   128  \n",
            "7   114   110   103    79    80    82    86    90   111  \n",
            "8     -     -     -     -     -     -     -     -     -  \n",
            "\n",
            "[9 rows x 29 columns]\n",
            "\n",
            "\n",
            "          0       1     2     3     4     5     6     7     8     9   ...  \\\n",
            "0  전력량 (억㎾h)  발전 전력별  1990  1991  1992  1993  1994  1995  1996  1997  ...   \n",
            "1         남한      합계  1077  1186  1310  1444  1650  1847  2055  2244  ...   \n",
            "2        NaN      수력    64    51    49    60    41    55    52    54  ...   \n",
            "3        NaN      화력   484   573   696   803  1022  1122  1264  1420  ...   \n",
            "4        NaN     원자력   529   563   565   581   587   670   739   771  ...   \n",
            "5        NaN     신재생     -     -     -     -     -     -     -     -  ...   \n",
            "6         북한      합계   277   263   247   221   231   230   213   193  ...   \n",
            "7        NaN      수력   156   150   142   133   138   142   125   107  ...   \n",
            "8        NaN      화력   121   113   105    88    93    88    88    86  ...   \n",
            "9        NaN     원자력     -     -     -     -     -     -     -     -  ...   \n",
            "\n",
            "     19    20    21    22    23    24    25    26    27    28  \n",
            "0  2007  2008  2009  2010  2011  2012  2013  2014  2015  2016  \n",
            "1  4031  4224  4336  4747  4969  5096  5171  5220  5281  5404  \n",
            "2    50    56    56    65    78    77    84    78    58    66  \n",
            "3  2551  2658  2802  3196  3343  3430  3581  3427  3402  3523  \n",
            "4  1429  1510  1478  1486  1547  1503  1388  1564  1648  1620  \n",
            "5     -     -     -     -     -    86   118   151   173   195  \n",
            "6   236   255   235   237   211   215   221   216   190   239  \n",
            "7   133   141   125   134   132   135   139   130   100   128  \n",
            "8   103   114   110   103    79    80    82    86    90   111  \n",
            "9     -     -     -     -     -     -     -     -     -     -  \n",
            "\n",
            "[10 rows x 29 columns]\n"
          ]
        }
      ]
    },
    {
      "cell_type": "code",
      "execution_count": null,
      "metadata": {
        "id": "HDGtFK4eTHmK",
        "colab": {
          "base_uri": "https://localhost:8080/"
        },
        "outputId": "9cb68bd3-4804-4f81-fafe-ba2497cb4e47"
      },
      "outputs": [
        {
          "output_type": "stream",
          "name": "stdout",
          "text": [
            "  전력량 (억㎾h) 발전 전력별  1990  1991  1992  1993  1994  1995  1996  1997  ...  2007  \\\n",
            "0        남한     합계  1077  1186  1310  1444  1650  1847  2055  2244  ...  4031   \n",
            "1       NaN     수력    64    51    49    60    41    55    52    54  ...    50   \n",
            "2       NaN     화력   484   573   696   803  1022  1122  1264  1420  ...  2551   \n",
            "3       NaN    원자력   529   563   565   581   587   670   739   771  ...  1429   \n",
            "4       NaN    신재생     -     -     -     -     -     -     -     -  ...     -   \n",
            "5        북한     합계   277   263   247   221   231   230   213   193  ...   236   \n",
            "6       NaN     수력   156   150   142   133   138   142   125   107  ...   133   \n",
            "7       NaN     화력   121   113   105    88    93    88    88    86  ...   103   \n",
            "8       NaN    원자력     -     -     -     -     -     -     -     -  ...     -   \n",
            "\n",
            "   2008  2009  2010  2011  2012  2013  2014  2015  2016  \n",
            "0  4224  4336  4747  4969  5096  5171  5220  5281  5404  \n",
            "1    56    56    65    78    77    84    78    58    66  \n",
            "2  2658  2802  3196  3343  3430  3581  3427  3402  3523  \n",
            "3  1510  1478  1486  1547  1503  1388  1564  1648  1620  \n",
            "4     -     -     -     -    86   118   151   173   195  \n",
            "5   255   235   237   211   215   221   216   190   239  \n",
            "6   141   125   134   132   135   139   130   100   128  \n",
            "7   114   110   103    79    80    82    86    90   111  \n",
            "8     -     -     -     -     -     -     -     -     -  \n",
            "\n",
            "[9 rows x 29 columns]\n",
            "\n",
            "\n",
            "          0       1     2     3     4     5     6     7     8     9   ...  \\\n",
            "0  전력량 (억㎾h)  발전 전력별  1990  1991  1992  1993  1994  1995  1996  1997  ...   \n",
            "1         남한      합계  1077  1186  1310  1444  1650  1847  2055  2244  ...   \n",
            "2        NaN      수력    64    51    49    60    41    55    52    54  ...   \n",
            "3        NaN      화력   484   573   696   803  1022  1122  1264  1420  ...   \n",
            "4        NaN     원자력   529   563   565   581   587   670   739   771  ...   \n",
            "5        NaN     신재생     -     -     -     -     -     -     -     -  ...   \n",
            "6         북한      합계   277   263   247   221   231   230   213   193  ...   \n",
            "7        NaN      수력   156   150   142   133   138   142   125   107  ...   \n",
            "8        NaN      화력   121   113   105    88    93    88    88    86  ...   \n",
            "9        NaN     원자력     -     -     -     -     -     -     -     -  ...   \n",
            "\n",
            "     19    20    21    22    23    24    25    26    27    28  \n",
            "0  2007  2008  2009  2010  2011  2012  2013  2014  2015  2016  \n",
            "1  4031  4224  4336  4747  4969  5096  5171  5220  5281  5404  \n",
            "2    50    56    56    65    78    77    84    78    58    66  \n",
            "3  2551  2658  2802  3196  3343  3430  3581  3427  3402  3523  \n",
            "4  1429  1510  1478  1486  1547  1503  1388  1564  1648  1620  \n",
            "5     -     -     -     -     -    86   118   151   173   195  \n",
            "6   236   255   235   237   211   215   221   216   190   239  \n",
            "7   133   141   125   134   132   135   139   130   100   128  \n",
            "8   103   114   110   103    79    80    82    86    90   111  \n",
            "9     -     -     -     -     -     -     -     -     -     -  \n",
            "\n",
            "[10 rows x 29 columns]\n"
          ]
        }
      ],
      "source": [
        "import pandas as pd\n",
        "df1 = pd.read_excel(\"/content/Pandas_Stats_Data_Analysis_2025/남북한발전전력량.xlsx\", engine = 'openpyxl') #header = 0 (by default)\n",
        "df2 = pd.read_excel(\"/content/Pandas_Stats_Data_Analysis_2025/남북한발전전력량.xlsx\", engine = 'openpyxl', header = None) #header unapplied\n",
        "\n",
        "print(df1)\n",
        "print('\\n')\n",
        "print(df2)"
      ]
    },
    {
      "cell_type": "markdown",
      "source": [
        "###**<font color = 'red'> 🐹🐾 Read the html format**\n",
        "- visit a webpage.\n",
        " - e.g., google.com ➡️ hold <CONTROL> + Click ➡️ save as <Google> with the format of <Webpage, HTML Only> ➡️ hit Upload ➡️ select the <Google.html>\n",
        ">\n",
        "- [정보문화사 파이썬 머신러닝 판다스 데이터 분석](http://www.infopub.co.kr/new/include/detail.asp?sku=05000266) ➡️ 샘플자료 다운로드 (우측 하단)"
      ],
      "metadata": {
        "id": "YBoUnRxrLbNJ"
      }
    },
    {
      "cell_type": "code",
      "source": [
        "import pandas as pd"
      ],
      "metadata": {
        "id": "zoF6yHpcgBvr"
      },
      "execution_count": null,
      "outputs": []
    },
    {
      "cell_type": "code",
      "source": [
        "url = '/content/Pandas_Stats_Data_Analysis_2025/sample.html'\n",
        "\n",
        "tables = pd.read_html(url)\n",
        "\n",
        "print(len(tables))\n",
        "print()\n",
        "\n",
        "for i in range(len(tables)):\n",
        "  print('tables[%s]' %i)\n",
        "  print(tables[i])\n",
        "  print()\n",
        "\n",
        "df = tables[i]\n",
        "df.set_index(['name'], inplace=True)\n",
        "df"
      ],
      "metadata": {
        "colab": {
          "base_uri": "https://localhost:8080/",
          "height": 432
        },
        "id": "8aeA2ZqUgFIL",
        "outputId": "dd0b8f8e-1023-42e0-8ac0-0b1172f338df"
      },
      "execution_count": null,
      "outputs": [
        {
          "output_type": "stream",
          "name": "stdout",
          "text": [
            "2\n",
            "\n",
            "tables[0]\n",
            "   Unnamed: 0  c0  c1  c2  c3\n",
            "0           0   0   1   4   7\n",
            "1           1   1   2   5   8\n",
            "2           2   2   3   6   9\n",
            "\n",
            "tables[1]\n",
            "         name  year        developer  opensource\n",
            "0       NumPy  2006  Travis Oliphant        True\n",
            "1  matplotlib  2003   John D. Hunter        True\n",
            "2      pandas  2008    Wes Mckinneye        True\n",
            "\n"
          ]
        },
        {
          "output_type": "execute_result",
          "data": {
            "text/plain": [
              "            year        developer  opensource\n",
              "name                                         \n",
              "NumPy       2006  Travis Oliphant        True\n",
              "matplotlib  2003   John D. Hunter        True\n",
              "pandas      2008    Wes Mckinneye        True"
            ],
            "text/html": [
              "\n",
              "  <div id=\"df-3f8986f3-6e63-49ae-84f8-d724dc645697\" class=\"colab-df-container\">\n",
              "    <div>\n",
              "<style scoped>\n",
              "    .dataframe tbody tr th:only-of-type {\n",
              "        vertical-align: middle;\n",
              "    }\n",
              "\n",
              "    .dataframe tbody tr th {\n",
              "        vertical-align: top;\n",
              "    }\n",
              "\n",
              "    .dataframe thead th {\n",
              "        text-align: right;\n",
              "    }\n",
              "</style>\n",
              "<table border=\"1\" class=\"dataframe\">\n",
              "  <thead>\n",
              "    <tr style=\"text-align: right;\">\n",
              "      <th></th>\n",
              "      <th>year</th>\n",
              "      <th>developer</th>\n",
              "      <th>opensource</th>\n",
              "    </tr>\n",
              "    <tr>\n",
              "      <th>name</th>\n",
              "      <th></th>\n",
              "      <th></th>\n",
              "      <th></th>\n",
              "    </tr>\n",
              "  </thead>\n",
              "  <tbody>\n",
              "    <tr>\n",
              "      <th>NumPy</th>\n",
              "      <td>2006</td>\n",
              "      <td>Travis Oliphant</td>\n",
              "      <td>True</td>\n",
              "    </tr>\n",
              "    <tr>\n",
              "      <th>matplotlib</th>\n",
              "      <td>2003</td>\n",
              "      <td>John D. Hunter</td>\n",
              "      <td>True</td>\n",
              "    </tr>\n",
              "    <tr>\n",
              "      <th>pandas</th>\n",
              "      <td>2008</td>\n",
              "      <td>Wes Mckinneye</td>\n",
              "      <td>True</td>\n",
              "    </tr>\n",
              "  </tbody>\n",
              "</table>\n",
              "</div>\n",
              "    <div class=\"colab-df-buttons\">\n",
              "\n",
              "  <div class=\"colab-df-container\">\n",
              "    <button class=\"colab-df-convert\" onclick=\"convertToInteractive('df-3f8986f3-6e63-49ae-84f8-d724dc645697')\"\n",
              "            title=\"Convert this dataframe to an interactive table.\"\n",
              "            style=\"display:none;\">\n",
              "\n",
              "  <svg xmlns=\"http://www.w3.org/2000/svg\" height=\"24px\" viewBox=\"0 -960 960 960\">\n",
              "    <path d=\"M120-120v-720h720v720H120Zm60-500h600v-160H180v160Zm220 220h160v-160H400v160Zm0 220h160v-160H400v160ZM180-400h160v-160H180v160Zm440 0h160v-160H620v160ZM180-180h160v-160H180v160Zm440 0h160v-160H620v160Z\"/>\n",
              "  </svg>\n",
              "    </button>\n",
              "\n",
              "  <style>\n",
              "    .colab-df-container {\n",
              "      display:flex;\n",
              "      gap: 12px;\n",
              "    }\n",
              "\n",
              "    .colab-df-convert {\n",
              "      background-color: #E8F0FE;\n",
              "      border: none;\n",
              "      border-radius: 50%;\n",
              "      cursor: pointer;\n",
              "      display: none;\n",
              "      fill: #1967D2;\n",
              "      height: 32px;\n",
              "      padding: 0 0 0 0;\n",
              "      width: 32px;\n",
              "    }\n",
              "\n",
              "    .colab-df-convert:hover {\n",
              "      background-color: #E2EBFA;\n",
              "      box-shadow: 0px 1px 2px rgba(60, 64, 67, 0.3), 0px 1px 3px 1px rgba(60, 64, 67, 0.15);\n",
              "      fill: #174EA6;\n",
              "    }\n",
              "\n",
              "    .colab-df-buttons div {\n",
              "      margin-bottom: 4px;\n",
              "    }\n",
              "\n",
              "    [theme=dark] .colab-df-convert {\n",
              "      background-color: #3B4455;\n",
              "      fill: #D2E3FC;\n",
              "    }\n",
              "\n",
              "    [theme=dark] .colab-df-convert:hover {\n",
              "      background-color: #434B5C;\n",
              "      box-shadow: 0px 1px 3px 1px rgba(0, 0, 0, 0.15);\n",
              "      filter: drop-shadow(0px 1px 2px rgba(0, 0, 0, 0.3));\n",
              "      fill: #FFFFFF;\n",
              "    }\n",
              "  </style>\n",
              "\n",
              "    <script>\n",
              "      const buttonEl =\n",
              "        document.querySelector('#df-3f8986f3-6e63-49ae-84f8-d724dc645697 button.colab-df-convert');\n",
              "      buttonEl.style.display =\n",
              "        google.colab.kernel.accessAllowed ? 'block' : 'none';\n",
              "\n",
              "      async function convertToInteractive(key) {\n",
              "        const element = document.querySelector('#df-3f8986f3-6e63-49ae-84f8-d724dc645697');\n",
              "        const dataTable =\n",
              "          await google.colab.kernel.invokeFunction('convertToInteractive',\n",
              "                                                    [key], {});\n",
              "        if (!dataTable) return;\n",
              "\n",
              "        const docLinkHtml = 'Like what you see? Visit the ' +\n",
              "          '<a target=\"_blank\" href=https://colab.research.google.com/notebooks/data_table.ipynb>data table notebook</a>'\n",
              "          + ' to learn more about interactive tables.';\n",
              "        element.innerHTML = '';\n",
              "        dataTable['output_type'] = 'display_data';\n",
              "        await google.colab.output.renderOutput(dataTable, element);\n",
              "        const docLink = document.createElement('div');\n",
              "        docLink.innerHTML = docLinkHtml;\n",
              "        element.appendChild(docLink);\n",
              "      }\n",
              "    </script>\n",
              "  </div>\n",
              "\n",
              "\n",
              "    <div id=\"df-ee74995a-9a4d-4f9f-8a24-1d318dd7575a\">\n",
              "      <button class=\"colab-df-quickchart\" onclick=\"quickchart('df-ee74995a-9a4d-4f9f-8a24-1d318dd7575a')\"\n",
              "                title=\"Suggest charts\"\n",
              "                style=\"display:none;\">\n",
              "\n",
              "<svg xmlns=\"http://www.w3.org/2000/svg\" height=\"24px\"viewBox=\"0 0 24 24\"\n",
              "     width=\"24px\">\n",
              "    <g>\n",
              "        <path d=\"M19 3H5c-1.1 0-2 .9-2 2v14c0 1.1.9 2 2 2h14c1.1 0 2-.9 2-2V5c0-1.1-.9-2-2-2zM9 17H7v-7h2v7zm4 0h-2V7h2v10zm4 0h-2v-4h2v4z\"/>\n",
              "    </g>\n",
              "</svg>\n",
              "      </button>\n",
              "\n",
              "<style>\n",
              "  .colab-df-quickchart {\n",
              "      --bg-color: #E8F0FE;\n",
              "      --fill-color: #1967D2;\n",
              "      --hover-bg-color: #E2EBFA;\n",
              "      --hover-fill-color: #174EA6;\n",
              "      --disabled-fill-color: #AAA;\n",
              "      --disabled-bg-color: #DDD;\n",
              "  }\n",
              "\n",
              "  [theme=dark] .colab-df-quickchart {\n",
              "      --bg-color: #3B4455;\n",
              "      --fill-color: #D2E3FC;\n",
              "      --hover-bg-color: #434B5C;\n",
              "      --hover-fill-color: #FFFFFF;\n",
              "      --disabled-bg-color: #3B4455;\n",
              "      --disabled-fill-color: #666;\n",
              "  }\n",
              "\n",
              "  .colab-df-quickchart {\n",
              "    background-color: var(--bg-color);\n",
              "    border: none;\n",
              "    border-radius: 50%;\n",
              "    cursor: pointer;\n",
              "    display: none;\n",
              "    fill: var(--fill-color);\n",
              "    height: 32px;\n",
              "    padding: 0;\n",
              "    width: 32px;\n",
              "  }\n",
              "\n",
              "  .colab-df-quickchart:hover {\n",
              "    background-color: var(--hover-bg-color);\n",
              "    box-shadow: 0 1px 2px rgba(60, 64, 67, 0.3), 0 1px 3px 1px rgba(60, 64, 67, 0.15);\n",
              "    fill: var(--button-hover-fill-color);\n",
              "  }\n",
              "\n",
              "  .colab-df-quickchart-complete:disabled,\n",
              "  .colab-df-quickchart-complete:disabled:hover {\n",
              "    background-color: var(--disabled-bg-color);\n",
              "    fill: var(--disabled-fill-color);\n",
              "    box-shadow: none;\n",
              "  }\n",
              "\n",
              "  .colab-df-spinner {\n",
              "    border: 2px solid var(--fill-color);\n",
              "    border-color: transparent;\n",
              "    border-bottom-color: var(--fill-color);\n",
              "    animation:\n",
              "      spin 1s steps(1) infinite;\n",
              "  }\n",
              "\n",
              "  @keyframes spin {\n",
              "    0% {\n",
              "      border-color: transparent;\n",
              "      border-bottom-color: var(--fill-color);\n",
              "      border-left-color: var(--fill-color);\n",
              "    }\n",
              "    20% {\n",
              "      border-color: transparent;\n",
              "      border-left-color: var(--fill-color);\n",
              "      border-top-color: var(--fill-color);\n",
              "    }\n",
              "    30% {\n",
              "      border-color: transparent;\n",
              "      border-left-color: var(--fill-color);\n",
              "      border-top-color: var(--fill-color);\n",
              "      border-right-color: var(--fill-color);\n",
              "    }\n",
              "    40% {\n",
              "      border-color: transparent;\n",
              "      border-right-color: var(--fill-color);\n",
              "      border-top-color: var(--fill-color);\n",
              "    }\n",
              "    60% {\n",
              "      border-color: transparent;\n",
              "      border-right-color: var(--fill-color);\n",
              "    }\n",
              "    80% {\n",
              "      border-color: transparent;\n",
              "      border-right-color: var(--fill-color);\n",
              "      border-bottom-color: var(--fill-color);\n",
              "    }\n",
              "    90% {\n",
              "      border-color: transparent;\n",
              "      border-bottom-color: var(--fill-color);\n",
              "    }\n",
              "  }\n",
              "</style>\n",
              "\n",
              "      <script>\n",
              "        async function quickchart(key) {\n",
              "          const quickchartButtonEl =\n",
              "            document.querySelector('#' + key + ' button');\n",
              "          quickchartButtonEl.disabled = true;  // To prevent multiple clicks.\n",
              "          quickchartButtonEl.classList.add('colab-df-spinner');\n",
              "          try {\n",
              "            const charts = await google.colab.kernel.invokeFunction(\n",
              "                'suggestCharts', [key], {});\n",
              "          } catch (error) {\n",
              "            console.error('Error during call to suggestCharts:', error);\n",
              "          }\n",
              "          quickchartButtonEl.classList.remove('colab-df-spinner');\n",
              "          quickchartButtonEl.classList.add('colab-df-quickchart-complete');\n",
              "        }\n",
              "        (() => {\n",
              "          let quickchartButtonEl =\n",
              "            document.querySelector('#df-ee74995a-9a4d-4f9f-8a24-1d318dd7575a button');\n",
              "          quickchartButtonEl.style.display =\n",
              "            google.colab.kernel.accessAllowed ? 'block' : 'none';\n",
              "        })();\n",
              "      </script>\n",
              "    </div>\n",
              "\n",
              "  <div id=\"id_702075ec-bafb-4506-8ad9-705a0532d1db\">\n",
              "    <style>\n",
              "      .colab-df-generate {\n",
              "        background-color: #E8F0FE;\n",
              "        border: none;\n",
              "        border-radius: 50%;\n",
              "        cursor: pointer;\n",
              "        display: none;\n",
              "        fill: #1967D2;\n",
              "        height: 32px;\n",
              "        padding: 0 0 0 0;\n",
              "        width: 32px;\n",
              "      }\n",
              "\n",
              "      .colab-df-generate:hover {\n",
              "        background-color: #E2EBFA;\n",
              "        box-shadow: 0px 1px 2px rgba(60, 64, 67, 0.3), 0px 1px 3px 1px rgba(60, 64, 67, 0.15);\n",
              "        fill: #174EA6;\n",
              "      }\n",
              "\n",
              "      [theme=dark] .colab-df-generate {\n",
              "        background-color: #3B4455;\n",
              "        fill: #D2E3FC;\n",
              "      }\n",
              "\n",
              "      [theme=dark] .colab-df-generate:hover {\n",
              "        background-color: #434B5C;\n",
              "        box-shadow: 0px 1px 3px 1px rgba(0, 0, 0, 0.15);\n",
              "        filter: drop-shadow(0px 1px 2px rgba(0, 0, 0, 0.3));\n",
              "        fill: #FFFFFF;\n",
              "      }\n",
              "    </style>\n",
              "    <button class=\"colab-df-generate\" onclick=\"generateWithVariable('df')\"\n",
              "            title=\"Generate code using this dataframe.\"\n",
              "            style=\"display:none;\">\n",
              "\n",
              "  <svg xmlns=\"http://www.w3.org/2000/svg\" height=\"24px\"viewBox=\"0 0 24 24\"\n",
              "       width=\"24px\">\n",
              "    <path d=\"M7,19H8.4L18.45,9,17,7.55,7,17.6ZM5,21V16.75L18.45,3.32a2,2,0,0,1,2.83,0l1.4,1.43a1.91,1.91,0,0,1,.58,1.4,1.91,1.91,0,0,1-.58,1.4L9.25,21ZM18.45,9,17,7.55Zm-12,3A5.31,5.31,0,0,0,4.9,8.1,5.31,5.31,0,0,0,1,6.5,5.31,5.31,0,0,0,4.9,4.9,5.31,5.31,0,0,0,6.5,1,5.31,5.31,0,0,0,8.1,4.9,5.31,5.31,0,0,0,12,6.5,5.46,5.46,0,0,0,6.5,12Z\"/>\n",
              "  </svg>\n",
              "    </button>\n",
              "    <script>\n",
              "      (() => {\n",
              "      const buttonEl =\n",
              "        document.querySelector('#id_702075ec-bafb-4506-8ad9-705a0532d1db button.colab-df-generate');\n",
              "      buttonEl.style.display =\n",
              "        google.colab.kernel.accessAllowed ? 'block' : 'none';\n",
              "\n",
              "      buttonEl.onclick = () => {\n",
              "        google.colab.notebook.generateWithVariable('df');\n",
              "      }\n",
              "      })();\n",
              "    </script>\n",
              "  </div>\n",
              "\n",
              "    </div>\n",
              "  </div>\n"
            ],
            "application/vnd.google.colaboratory.intrinsic+json": {
              "type": "dataframe",
              "variable_name": "df",
              "summary": "{\n  \"name\": \"df\",\n  \"rows\": 3,\n  \"fields\": [\n    {\n      \"column\": \"name\",\n      \"properties\": {\n        \"dtype\": \"string\",\n        \"num_unique_values\": 3,\n        \"samples\": [\n          \"NumPy\",\n          \"matplotlib\",\n          \"pandas\"\n        ],\n        \"semantic_type\": \"\",\n        \"description\": \"\"\n      }\n    },\n    {\n      \"column\": \"year\",\n      \"properties\": {\n        \"dtype\": \"number\",\n        \"std\": 2,\n        \"min\": 2003,\n        \"max\": 2008,\n        \"num_unique_values\": 3,\n        \"samples\": [\n          2006,\n          2003,\n          2008\n        ],\n        \"semantic_type\": \"\",\n        \"description\": \"\"\n      }\n    },\n    {\n      \"column\": \"developer\",\n      \"properties\": {\n        \"dtype\": \"string\",\n        \"num_unique_values\": 3,\n        \"samples\": [\n          \"Travis Oliphant\",\n          \"John D. Hunter\",\n          \"Wes Mckinneye\"\n        ],\n        \"semantic_type\": \"\",\n        \"description\": \"\"\n      }\n    },\n    {\n      \"column\": \"opensource\",\n      \"properties\": {\n        \"dtype\": \"boolean\",\n        \"num_unique_values\": 1,\n        \"samples\": [\n          true\n        ],\n        \"semantic_type\": \"\",\n        \"description\": \"\"\n      }\n    }\n  ]\n}"
            }
          },
          "metadata": {},
          "execution_count": 41
        }
      ]
    },
    {
      "cell_type": "code",
      "source": [
        "import pandas as pd\n",
        "\n",
        "url = \"/content/Pandas_Stats_Data_Analysis_2025/sample.html\"\n",
        "\n",
        "#html 웹페이지의 표를 가져와서 데이터프레임으로 변환\n",
        "tables = pd.read_html(url)\n",
        "\n",
        "#표 개수 확인\n",
        "print(len(tables))\n",
        "print('\\n')\n",
        "\n",
        "#표 리스트의 원소를 반복하면서 (interating the element of the table list) 화면 출력\n",
        "for i in range(len(tables)):\n",
        "  print(\"tables[%s]\" %i)\n",
        "  print(tables[i])\n",
        "  print('\\n')\n",
        "\n",
        "#파이썬 패키지 정보가 들어 있는 두 번째 데이터프레임을 선택하여 df 변수에 저장\n",
        "df = tables[i]\n",
        "\n",
        "#name 열을 인덱스로 저장\n",
        "df.set_index(['name'], inplace = True)\n",
        "print(df)"
      ],
      "metadata": {
        "colab": {
          "base_uri": "https://localhost:8080/"
        },
        "id": "jPxRRr_iTs_P",
        "outputId": "a46f4db9-c55e-4c04-e855-58d492798771"
      },
      "execution_count": null,
      "outputs": [
        {
          "output_type": "stream",
          "name": "stdout",
          "text": [
            "2\n",
            "\n",
            "\n",
            "tables[0]\n",
            "   Unnamed: 0  c0  c1  c2  c3\n",
            "0           0   0   1   4   7\n",
            "1           1   1   2   5   8\n",
            "2           2   2   3   6   9\n",
            "\n",
            "\n",
            "tables[1]\n",
            "         name  year        developer  opensource\n",
            "0       NumPy  2006  Travis Oliphant        True\n",
            "1  matplotlib  2003   John D. Hunter        True\n",
            "2      pandas  2008    Wes Mckinneye        True\n",
            "\n",
            "\n",
            "            year        developer  opensource\n",
            "name                                         \n",
            "NumPy       2006  Travis Oliphant        True\n",
            "matplotlib  2003   John D. Hunter        True\n",
            "pandas      2008    Wes Mckinneye        True\n"
          ]
        }
      ]
    },
    {
      "cell_type": "markdown",
      "source": [
        "#🐹🐾**Saving data**"
      ],
      "metadata": {
        "id": "qSGoqXGX3HxH"
      }
    },
    {
      "cell_type": "markdown",
      "source": [
        "###🐹🐾<font color = 'blue'> **Write as the csv format**"
      ],
      "metadata": {
        "id": "DDvgPpZ958GA"
      }
    },
    {
      "cell_type": "code",
      "source": [
        "#saving as csv format\n",
        "\n",
        "import pandas as pd\n",
        "\n",
        "#판다스 DataFrame()함수로 데이터프레임 변환한 것을 변수로 할당\n",
        "\n",
        "data = {'name': ['Emma', \"Sean\", \"Witney\"],\n",
        "        'algol': ['A', 'A+', 'B'],\n",
        "        'basic': ['C', 'B', 'B+'],\n",
        "        'c++': ['B+','C', 'C+'],\n",
        "}\n",
        "df = pd.DataFrame(data)\n",
        "df.set_index('name', inplace=True) #name 열을 인덱스로 지정\n",
        "#df.set_index('c++', inplace=True) #c++ 열을 인덱스로 지정\n",
        "print(df)\n",
        "\n",
        "df.to_csv(\"./df_sample.csv\") #csv file saved in the <sample_data> directory of Colab\n",
        "\n"
      ],
      "metadata": {
        "id": "R6pfp3sQ3Ns-",
        "outputId": "828b3e0d-905f-4735-a406-90760e831e45",
        "colab": {
          "base_uri": "https://localhost:8080/"
        }
      },
      "execution_count": null,
      "outputs": [
        {
          "output_type": "stream",
          "name": "stdout",
          "text": [
            "       algol basic c++\n",
            "name                  \n",
            "Emma       A     C  B+\n",
            "Sean      A+     B   C\n",
            "Witney     B    B+  C+\n"
          ]
        }
      ]
    },
    {
      "cell_type": "markdown",
      "source": [
        "###🐹🐾<font color = 'blue'> **Write as the excel format**"
      ],
      "metadata": {
        "id": "viZr0ns2Hmnj"
      }
    },
    {
      "cell_type": "code",
      "source": [
        "import pandas as pd\n",
        "\n",
        "#data변수에 사전형 데이터로 자료를 정리\n",
        "data = {'name': ['Emily', 'Andy', 'John'],\n",
        "        'c++':['A', 'A+', 'B'],\n",
        "        'basic': ['C', 'B', 'B+'],\n",
        "        'JAVA': ['B+', 'C', 'C+']\n",
        "        }\n",
        "\n",
        "#Pandas DataFrame()function을 사용하여 데이터프레임 변환하여 이를 df 변수에 할당\n",
        "df = pd.DataFrame(data)\n",
        "df.set_index('name', inplace=True)\n",
        "print(df)\n",
        "\n",
        "df.to_excel('./df_sample.xlsx')\n"
      ],
      "metadata": {
        "id": "Fr21vPH_HtSS",
        "outputId": "632dac2d-c956-4c4b-c3e0-7e1d1557ad78",
        "colab": {
          "base_uri": "https://localhost:8080/"
        }
      },
      "execution_count": null,
      "outputs": [
        {
          "output_type": "stream",
          "name": "stdout",
          "text": [
            "      c++ basic JAVA\n",
            "name                \n",
            "Emily   A     C   B+\n",
            "Andy   A+     B    C\n",
            "John    B    B+   C+\n"
          ]
        }
      ]
    },
    {
      "cell_type": "markdown",
      "source": [
        "###🐹🐾<font color = 'blue'> **Write as the excel format after combining multiple data frames**\n"
      ],
      "metadata": {
        "id": "o57zV9qiKspG"
      }
    },
    {
      "cell_type": "code",
      "source": [
        "#여러개의 excel 파일을 파일 하나로 저장하기\n",
        "\n",
        "import pandas as pd\n",
        "\n",
        "data1 = {'name': ['Emily', 'Andy', 'John'],\n",
        "        'c++':['A', 'A+', 'B'],\n",
        "        'basic': ['C', 'B', 'B+'],\n",
        "        'JAVA': ['B+', 'C', 'C+']\n",
        "        }\n",
        "\n",
        "data2 = {'c0':[1,2,3],\n",
        "         'c1':[4,5,6],\n",
        "         'c2':[7,8,9],\n",
        "         'c3':[10,11,12],\n",
        "         'c4':[13,14,15]\n",
        "         }\n",
        "\n",
        "df1=pd.DataFrame(data1)\n",
        "df1.set_index('name', inplace=True)\n",
        "print(df1)\n",
        "print('\\n')\n",
        "\n",
        "df2=pd.DataFrame(data2)\n",
        "df2.set_index('c0', inplace=True)\n",
        "print(df2)\n",
        "\n",
        "#df1을 sheet1으로, df2를 sheet2로 저장. 파일명은 df_excelwriter.xlsx 로 해본다.\n",
        "\n",
        "writer = pd.ExcelWriter(\"./df_excelwriter.xlsx\")\n",
        "\n",
        "df1.to_excel(writer, sheet_name = 'grading')\n",
        "df2.to_excel(writer, sheet_name='numbers')\n",
        "writer.close() #To address this, you can use the writer.close() method instead of save(). This will properly close the Excel file and ensure that all the data is saved."
      ],
      "metadata": {
        "id": "EY3A1qAuK106",
        "outputId": "6c3cf924-5eb6-4bc2-f74e-2b232ebf68bd",
        "colab": {
          "base_uri": "https://localhost:8080/"
        }
      },
      "execution_count": null,
      "outputs": [
        {
          "output_type": "stream",
          "name": "stdout",
          "text": [
            "      c++ basic JAVA\n",
            "name                \n",
            "Emily   A     C   B+\n",
            "Andy   A+     B    C\n",
            "John    B    B+   C+\n",
            "\n",
            "\n",
            "    c1  c2  c3  c4\n",
            "c0                \n",
            "1    4   7  10  13\n",
            "2    5   8  11  14\n",
            "3    6   9  12  15\n"
          ]
        }
      ]
    }
  ]
}